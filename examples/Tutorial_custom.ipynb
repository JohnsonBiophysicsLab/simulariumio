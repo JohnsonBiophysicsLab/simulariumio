{
 "cells": [
  {
   "cell_type": "markdown",
   "metadata": {},
   "source": [
    "# Simularium Conversion Tutorial : Custom Data"
   ]
  },
  {
   "cell_type": "code",
   "execution_count": 1,
   "metadata": {},
   "outputs": [],
   "source": [
    "from IPython.display import Image\n",
    "import numpy as np\n",
    "from simulariumio import Converter"
   ]
  },
  {
   "cell_type": "markdown",
   "metadata": {},
   "source": [
    "This notebook provides example python code for converting your own simulation trajectories into the format consumed by the Simularium Viewer. It creates a .simularium JSON file which you can drag and drop onto the viewer like this:"
   ]
  },
  {
   "cell_type": "markdown",
   "metadata": {},
   "source": [
    "![title](img/drag_drop.gif)"
   ]
  },
  {
   "cell_type": "markdown",
   "metadata": {},
   "source": [
    "***\n",
    "## Prepare your spatial data"
   ]
  },
  {
   "cell_type": "markdown",
   "metadata": {},
   "source": [
    "The Simularium custom data Converter consumes spatiotemporal data from any source. It requires the following data:\n",
    "* **box_size** : *np.ndarray (shape = \\[3\\])*\n",
    "    * A numpy ndarray containing the XYZ dimensions of the simulation bounding volume\n",
    "* **times** : *np.ndarray (shape = \\[timesteps\\])*\n",
    "    * A numpy ndarray containing the elapsed simulated time at each timestep\n",
    "* **n_agents** : *np.ndarray (shape = \\[timesteps\\])*\n",
    "    * A numpy ndarray containing the number of agents that exist at each timestep\n",
    "* **viz_types** : *np.ndarray (shape = \\[timesteps, agents\\])*\n",
    "    * A numpy ndarray containing the viz type for each agent at each timestep. Current options:\n",
    "        * 1000 : default,\n",
    "        * 1001 : fiber (which will require subpoints)\n",
    "* **unique_ids** : *np.ndarray (shape = \\[timesteps, agents\\])*\n",
    "    * A numpy ndarray containing the unique ID for each agent at each timestep\n",
    "* **types** : *List\\[List\\[str\\]\\] (list of shape \\[timesteps, agents\\])*\n",
    "    * A list containing timesteps, for each a list of the string name for the type of each agent\n",
    "* **positions** : *np.ndarray (shape = \\[timesteps, agents, 3\\])*\n",
    "    * A numpy ndarray containing the XYZ position for each agent at each timestep\n",
    "* **radii** : *np.ndarray (shape = \\[timesteps, agents\\])*\n",
    "    * A numpy ndarray containing the radius for each agent at each timestep\n",
    "    * optional only if all agents are fibers\n",
    "    \n",
    "Optionally, you can also include:\n",
    "* **n_subpoints** : *np.ndarray (shape = \\[timesteps, agents\\]) (optional)*\n",
    "    * A numpy ndarray containing the number of subpoints belonging to each agent at each timestep. Required if subpoints are provided\n",
    "* **subpoints** : *np.ndarray (shape = \\[timesteps, agents, subpoints, 3\\])*\n",
    "    * A numpy ndarray containing a list of subpoint position data for each agent at each timestep. These values are currently only used for fiber agents.\n",
    "* **plots** : *Dict\\[str, Any\\]*\n",
    "    * An object containing plot data already in Simularium format"
   ]
  },
  {
   "cell_type": "markdown",
   "metadata": {},
   "source": [
    "### Generate example data"
   ]
  },
  {
   "cell_type": "markdown",
   "metadata": {},
   "source": [
    "To demonstrate using the custom converter, we'll first generate some random example data."
   ]
  },
  {
   "cell_type": "code",
   "execution_count": 2,
   "metadata": {},
   "outputs": [],
   "source": [
    "from string import ascii_uppercase\n",
    "from random import choice\n",
    "\n",
    "# parameters\n",
    "total_steps = 5\n",
    "timestep = 0.5\n",
    "box_size = 100\n",
    "n_agents = 5\n",
    "min_radius = 5\n",
    "max_radius = 10\n",
    "agents_are_fibers = False\n",
    "points_per_fiber = 4\n",
    "\n",
    "example_data = {\n",
    "    \"box_size\" : np.array([box_size, box_size, box_size]),\n",
    "    \"times\" : timestep * np.array(list(range(total_steps))),\n",
    "    \"n_agents\" : np.array(total_steps * [n_agents]),\n",
    "    \"unique_ids\" : np.array(total_steps * [list(range(n_agents))]),\n",
    "    \"types\" : []\n",
    "}\n",
    "for t in range(total_steps):\n",
    "    example_data[\"types\"].append([choice(ascii_uppercase) for i in range(n_agents)])"
   ]
  },
  {
   "cell_type": "markdown",
   "metadata": {},
   "source": [
    "### Sphere visualization"
   ]
  },
  {
   "cell_type": "markdown",
   "metadata": {},
   "source": [
    "If the agents are particles to be visualized as spheres, their centroid positions can be added like this:"
   ]
  },
  {
   "cell_type": "code",
   "execution_count": 3,
   "metadata": {},
   "outputs": [],
   "source": [
    "if not agents_are_fibers:\n",
    "    example_data[\"positions\"] = np.random.uniform(size=(total_steps, n_agents, 3)) * box_size - box_size * 0.5\n",
    "    example_data[\"viz_types\"] = np.array(total_steps * [n_agents * [1000.0]]) # default viz type = 1000\n",
    "    example_data[\"radii\"] = (max_radius - min_radius) * np.random.uniform(size=(total_steps, n_agents)) + min_radius"
   ]
  },
  {
   "cell_type": "markdown",
   "metadata": {},
   "source": [
    "### Line visualization"
   ]
  },
  {
   "cell_type": "markdown",
   "metadata": {},
   "source": [
    "If the agents are fibers to be visualized as lines, the positions of points along each fiber can be added using the optional subpoints:"
   ]
  },
  {
   "cell_type": "code",
   "execution_count": 4,
   "metadata": {},
   "outputs": [],
   "source": [
    "if agents_are_fibers:\n",
    "    example_data[\"positions\"] = np.zeros(shape=(total_steps, n_agents, 3))\n",
    "    example_data[\"n_subpoints\"] = points_per_fiber * np.ones(shape=(total_steps, n_agents))\n",
    "    example_data[\"subpoints\"] = box_size * np.random.uniform(\n",
    "        size=(total_steps, n_agents, points_per_fiber, 3)) - box_size * 0.5\n",
    "    example_data[\"viz_types\"] = np.array(total_steps * [n_agents * [1001.0]]) # fiber viz type = 1001\n",
    "    # no need to set radii since all agents are fibers"
   ]
  },
  {
   "cell_type": "markdown",
   "metadata": {},
   "source": [
    "Inspect the resulting data:"
   ]
  },
  {
   "cell_type": "code",
   "execution_count": 5,
   "metadata": {
    "scrolled": true
   },
   "outputs": [],
   "source": [
    "print(\"box size = {}\".format(example_data[\"box_size\"]))\n",
    "print(\"times = {}\".format(example_data[\"times\"]))\n",
    "print(\"number of agents = {}\".format(example_data[\"n_agents\"]))\n",
    "print(\"viz types = {}\".format(example_data[\"viz_types\"]))\n",
    "print(\"unique IDs = {}\".format(example_data[\"unique_ids\"]))\n",
    "print(\"types = {}\".format(example_data[\"types\"]))\n",
    "print(\"positions = {}\".format(example_data[\"positions\"]))\n",
    "print(\"radii = {}\".format(example_data[\"radii\"] if \"radii\" in example_data else \"None\"))\n",
    "if agents_are_fibers:\n",
    "    print(\"n_subpoints = {}\".format(example_data[\"n_subpoints\"]))\n",
    "    print(\"subpoints = {}\".format(example_data[\"subpoints\"]))"
   ]
  },
  {
   "cell_type": "markdown",
   "metadata": {},
   "source": [
    "## Convert and save as .simularium JSON file"
   ]
  },
  {
   "cell_type": "markdown",
   "metadata": {},
   "source": [
    "Once your data is shaped like in the `example_data` object, you can use the converter to generate the file at the given path:"
   ]
  },
  {
   "cell_type": "code",
   "execution_count": 6,
   "metadata": {},
   "outputs": [],
   "source": [
    "converter = Converter(example_data)\n",
    "converter.write_JSON(\"/Users/blairl/Desktop/example\")"
   ]
  },
  {
   "cell_type": "markdown",
   "metadata": {},
   "source": [
    "***\n",
    "## Add plots"
   ]
  },
  {
   "cell_type": "markdown",
   "metadata": {},
   "source": [
    "You can optionally include metrics data, which will be graphed in plots alongside your spatial data in the Simularium viewer. For now, Simularium supports scatterplots and histograms."
   ]
  },
  {
   "cell_type": "markdown",
   "metadata": {},
   "source": [
    "### Scatterplots"
   ]
  },
  {
   "cell_type": "markdown",
   "metadata": {},
   "source": [
    "Scatterplots require the following data:\n",
    "* **title** : *str*\n",
    "    * A string display title for the plot\n",
    "* **xaxis_title** : *str*\n",
    "    * A string label (with units) for the x-axis\n",
    "* **yaxis_title** : *str*\n",
    "    * A string label (with units) for the y-axis\n",
    "* **xtrace** : *np.ndarray (shape = [x values])*\n",
    "    * A numpy ndarray of values for x, the independent variable\n",
    "* **ytraces** : *Dict[str, np.ndarray (shape = [x values])]*\n",
    "    * A dictionary with y-trace display names as keys, each mapped to a numpy ndarray of values for y, the dependent variable\n",
    "* **render_mode** : *str (optional)*\n",
    "    * A string specifying how to draw the datapoints. Options:\n",
    "        * 'markers' : draw as points\n",
    "        * 'lines' : connect points with line\n",
    "    * Default: 'markers'"
   ]
  },
  {
   "cell_type": "markdown",
   "metadata": {},
   "source": [
    "Here's some random example scatterplot data:"
   ]
  },
  {
   "cell_type": "code",
   "execution_count": 7,
   "metadata": {},
   "outputs": [],
   "source": [
    "scatter_plot = {\n",
    "    \"title\": \"Test Scatterplot 1\",\n",
    "    \"xaxis_title\": \"time (ns)\",\n",
    "    \"yaxis_title\": \"concentration (uM)\",\n",
    "    \"xtrace\": np.array(list(range(10))),\n",
    "    \"ytraces\": {\n",
    "        \"agent1\": 100 * np.random.uniform(size=(10)),\n",
    "        \"agent2\": 100 * np.random.uniform(size=(10)),\n",
    "        \"agent3\": 100 * np.random.uniform(size=(10)),\n",
    "    },\n",
    "    \"render_mode\": \"lines\"\n",
    "}"
   ]
  },
  {
   "cell_type": "code",
   "execution_count": 8,
   "metadata": {
    "scrolled": true
   },
   "outputs": [
    {
     "name": "stdout",
     "output_type": "stream",
     "text": [
      "title = Test Scatterplot 1\n",
      "xaxis_title = time (ns)\n",
      "yaxis_title = concentration (uM)\n",
      "xtrace = [0 1 2 3 4 5 6 7 8 9]\n",
      "ytraces:\n",
      "  agent1 = [85.81810117 63.93254575 66.32377308 78.92439753 14.15277033 95.34283801\n",
      " 44.47598818 47.67725994 42.52787767 44.17199114]\n",
      "  agent2 = [18.04285137 54.62098886 28.57397349 91.8222     61.20877391 13.83121966\n",
      " 64.4702447  58.14381492 70.58668005 99.38155863]\n",
      "  agent2 = [25.22929223 85.81606452 71.55704031  0.73093903 49.32314128 86.66234291\n",
      " 93.81519382 10.78393371 22.60652272 19.77288185]\n",
      "render_mode = lines\n"
     ]
    }
   ],
   "source": [
    "print(\"title = {}\".format(scatter_plot[\"title\"]))\n",
    "print(\"xaxis_title = {}\".format(scatter_plot[\"xaxis_title\"]))\n",
    "print(\"yaxis_title = {}\".format(scatter_plot[\"yaxis_title\"]))\n",
    "print(\"xtrace = {}\".format(scatter_plot[\"xtrace\"]))\n",
    "print(\"ytraces:\")\n",
    "print(\"  agent1 = {}\".format(scatter_plot[\"ytraces\"][\"agent1\"]))\n",
    "print(\"  agent2 = {}\".format(scatter_plot[\"ytraces\"][\"agent2\"]))\n",
    "print(\"  agent2 = {}\".format(scatter_plot[\"ytraces\"][\"agent3\"]))\n",
    "print(\"render_mode = {}\".format(scatter_plot[\"render_mode\"]))"
   ]
  },
  {
   "cell_type": "markdown",
   "metadata": {},
   "source": [
    "To add it to the converter:"
   ]
  },
  {
   "cell_type": "code",
   "execution_count": 9,
   "metadata": {},
   "outputs": [],
   "source": [
    "converter.add_plot(scatter_plot, \"scatter\")"
   ]
  },
  {
   "cell_type": "markdown",
   "metadata": {},
   "source": [
    "### Histograms"
   ]
  },
  {
   "cell_type": "markdown",
   "metadata": {},
   "source": [
    "Histograms require the following data:\n",
    "* **title** : *str*\n",
    "    * A string display title for the plot\n",
    "* ***xaxis_title*** : *str*\n",
    "    * A string label (with units) for the x-axis\n",
    "* **traces** : *Dict[str, np.ndarray (shape = [values])]*\n",
    "    * A dictionary with trace display names as keys, each mapped to a numpy ndarray of values"
   ]
  },
  {
   "cell_type": "markdown",
   "metadata": {},
   "source": [
    "Here's some random example histogram data:"
   ]
  },
  {
   "cell_type": "code",
   "execution_count": 10,
   "metadata": {},
   "outputs": [],
   "source": [
    "histogram = {\n",
    "    \"title\": \"Test Histogram 1\",\n",
    "    \"xaxis_title\": \"angle (degrees)\",\n",
    "    \"traces\": {\n",
    "        \"crosslinked monomers\": 2 * np.random.uniform(size=(15)),\n",
    "        \"bent monomers\": 10 * np.random.uniform(size=(10)),\n",
    "    }\n",
    "}"
   ]
  },
  {
   "cell_type": "code",
   "execution_count": 11,
   "metadata": {},
   "outputs": [
    {
     "name": "stdout",
     "output_type": "stream",
     "text": [
      "title = Test Histogram 1\n",
      "xaxis_title = angle (degrees)\n",
      "traces:\n",
      "  crosslinked monomers = [1.68973839 0.0519339  1.5287687  1.92569546 1.20478972 0.15735779\n",
      " 0.04433263 0.31003189 0.28609787 1.41378324 1.71610002 1.02545611\n",
      " 0.82127704 1.27196588 1.42048629]\n",
      "  bent monomers = [9.73713118 6.15160034 2.49780667 7.56833878 4.6585807  2.19882019\n",
      " 0.40965719 6.51399356 8.88679448 4.24076873]\n"
     ]
    }
   ],
   "source": [
    "print(\"title = {}\".format(histogram[\"title\"]))\n",
    "print(\"xaxis_title = {}\".format(histogram[\"xaxis_title\"]))\n",
    "print(\"traces:\")\n",
    "print(\"  crosslinked monomers = {}\".format(histogram[\"traces\"][\"crosslinked monomers\"]))\n",
    "print(\"  bent monomers = {}\".format(histogram[\"traces\"][\"bent monomers\"]))"
   ]
  },
  {
   "cell_type": "markdown",
   "metadata": {},
   "source": [
    "To add it to the converter:"
   ]
  },
  {
   "cell_type": "code",
   "execution_count": 12,
   "metadata": {},
   "outputs": [],
   "source": [
    "converter.add_plot(histogram, \"histogram\")"
   ]
  },
  {
   "cell_type": "markdown",
   "metadata": {},
   "source": [
    "### Save the data with added plots"
   ]
  },
  {
   "cell_type": "markdown",
   "metadata": {},
   "source": [
    "Once you've added your plot data, write the updated data to file:"
   ]
  },
  {
   "cell_type": "code",
   "execution_count": 13,
   "metadata": {},
   "outputs": [],
   "source": [
    "converter.write_JSON(\"/Users/blairl/Desktop/example\")"
   ]
  },
  {
   "cell_type": "markdown",
   "metadata": {},
   "source": [
    "## Visualize in the Simularium viewer"
   ]
  },
  {
   "cell_type": "markdown",
   "metadata": {},
   "source": [
    "In your browser, either Firefox or Chrome, navigate to https://staging.agentviz.allencell.org/ and drag your file onto the center viewer window. \n",
    "\n",
    "*For now you'll first have to choose an example trajectory and close the load window. Once the example trajectory loads, you can drop your own file in to replace it. We'll fix this soon :)*"
   ]
  },
  {
   "cell_type": "code",
   "execution_count": null,
   "metadata": {},
   "outputs": [],
   "source": []
  }
 ],
 "metadata": {
  "kernelspec": {
   "display_name": "Python 3",
   "language": "python",
   "name": "python3"
  },
  "language_info": {
   "codemirror_mode": {
    "name": "ipython",
    "version": 3
   },
   "file_extension": ".py",
   "mimetype": "text/x-python",
   "name": "python",
   "nbconvert_exporter": "python",
   "pygments_lexer": "ipython3",
   "version": "3.8.5"
  }
 },
 "nbformat": 4,
 "nbformat_minor": 4
}
