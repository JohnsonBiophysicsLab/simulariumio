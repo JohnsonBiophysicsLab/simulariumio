{
 "cells": [
  {
   "cell_type": "markdown",
   "metadata": {},
   "source": [
    "# Simularium Conversion Tutorial : Custom Data"
   ]
  },
  {
   "cell_type": "code",
   "execution_count": 1,
   "metadata": {},
   "outputs": [],
   "source": [
    "from IPython.display import Image\n",
    "import numpy as np\n",
    "from simulariumio import Converter"
   ]
  },
  {
   "cell_type": "markdown",
   "metadata": {},
   "source": [
    "This notebook provides example python code for converting your own simulation trajectories into the format consumed by the Simularium Viewer. It creates a .simularium JSON file which you can drag and drop onto the viewer like this:"
   ]
  },
  {
   "cell_type": "markdown",
   "metadata": {},
   "source": [
    "![title](img/drag_drop.gif)"
   ]
  },
  {
   "cell_type": "markdown",
   "metadata": {},
   "source": [
    "***\n",
    "## Prepare your spatial data"
   ]
  },
  {
   "cell_type": "markdown",
   "metadata": {},
   "source": [
    "The Simularium custom data Converter consumes spatiotemporal data from any source. It requires the following data:\n",
    "* **box_size** : *np.ndarray (shape = \\[3\\])*\n",
    "    * A numpy ndarray containing the XYZ dimensions of the simulation bounding volume\n",
    "* **times** : *np.ndarray (shape = \\[timesteps\\])*\n",
    "    * A numpy ndarray containing the elapsed simulated time at each timestep\n",
    "* **n_agents** : *np.ndarray (shape = \\[timesteps\\])*\n",
    "    * A numpy ndarray containing the number of agents that exist at each timestep\n",
    "* **viz_types** : *np.ndarray (shape = \\[timesteps, agents\\])*\n",
    "    * A numpy ndarray containing the viz type for each agent at each timestep. Current options:\n",
    "        * 1000 : default,\n",
    "        * 1001 : fiber (which will require subpoints)\n",
    "* **unique_ids** : *np.ndarray (shape = \\[timesteps, agents\\])*\n",
    "    * A numpy ndarray containing the unique ID for each agent at each timestep\n",
    "* **types** : *List\\[List\\[str\\]\\] (list of shape \\[timesteps, agents\\])*\n",
    "    * A list containing timesteps, for each a list of the string name for the type of each agent\n",
    "* **positions** : *np.ndarray (shape = \\[timesteps, agents, 3\\])*\n",
    "    * A numpy ndarray containing the XYZ position for each agent at each timestep\n",
    "* **radii** : *np.ndarray (shape = \\[timesteps, agents\\])*\n",
    "    * A numpy ndarray containing the radius for each agent at each timestep\n",
    "    * optional only if all agents are fibers\n",
    "    \n",
    "Optionally, you can also include:\n",
    "* **n_subpoints** : *np.ndarray (shape = \\[timesteps, agents\\]) (optional)*\n",
    "    * A numpy ndarray containing the number of subpoints belonging to each agent at each timestep. Required if subpoints are provided\n",
    "* **subpoints** : *np.ndarray (shape = \\[timesteps, agents, subpoints, 3\\])*\n",
    "    * A numpy ndarray containing a list of subpoint position data for each agent at each timestep. These values are currently only used for fiber agents.\n",
    "* **plots** : *Dict\\[str, Any\\]*\n",
    "    * An object containing plot data already in Simularium format\n",
    "* **draw_fiber_points**: *bool*\n",
    "    * Draw spheres at every other fiber point for fibers?\n",
    "    * Default: False"
   ]
  },
  {
   "cell_type": "markdown",
   "metadata": {},
   "source": [
    "### Generate example data"
   ]
  },
  {
   "cell_type": "markdown",
   "metadata": {},
   "source": [
    "To demonstrate using the custom converter, we'll first generate some random example data."
   ]
  },
  {
   "cell_type": "code",
   "execution_count": 2,
   "metadata": {},
   "outputs": [],
   "source": [
    "from string import ascii_uppercase\n",
    "from random import choice\n",
    "\n",
    "# parameters\n",
    "total_steps = 5\n",
    "timestep = 0.5\n",
    "box_size = 100\n",
    "n_agents = 5\n",
    "min_radius = 5\n",
    "max_radius = 10\n",
    "agents_are_fibers = False\n",
    "points_per_fiber = 4\n",
    "\n",
    "example_data = {\n",
    "    \"box_size\" : np.array([box_size, box_size, box_size]),\n",
    "    \"times\" : timestep * np.array(list(range(total_steps))),\n",
    "    \"n_agents\" : np.array(total_steps * [n_agents]),\n",
    "    \"unique_ids\" : np.array(total_steps * [list(range(n_agents))]),\n",
    "    \"types\" : []\n",
    "}\n",
    "for t in range(total_steps):\n",
    "    example_data[\"types\"].append([choice(ascii_uppercase) for i in range(n_agents)])"
   ]
  },
  {
   "cell_type": "markdown",
   "metadata": {},
   "source": [
    "### Sphere visualization"
   ]
  },
  {
   "cell_type": "markdown",
   "metadata": {},
   "source": [
    "If the agents are particles to be visualized as spheres, their centroid positions can be added like this:"
   ]
  },
  {
   "cell_type": "code",
   "execution_count": 3,
   "metadata": {},
   "outputs": [],
   "source": [
    "if not agents_are_fibers:\n",
    "    example_data[\"positions\"] = np.random.uniform(size=(total_steps, n_agents, 3)) * box_size - box_size * 0.5\n",
    "    example_data[\"viz_types\"] = np.array(total_steps * [n_agents * [1000.0]]) # default viz type = 1000\n",
    "    example_data[\"radii\"] = (max_radius - min_radius) * np.random.uniform(size=(total_steps, n_agents)) + min_radius"
   ]
  },
  {
   "cell_type": "markdown",
   "metadata": {},
   "source": [
    "### Line visualization"
   ]
  },
  {
   "cell_type": "markdown",
   "metadata": {},
   "source": [
    "If the agents are fibers to be visualized as lines, the positions of points along each fiber can be added using the optional subpoints:"
   ]
  },
  {
   "cell_type": "code",
   "execution_count": 4,
   "metadata": {},
   "outputs": [],
   "source": [
    "if agents_are_fibers:\n",
    "    example_data[\"positions\"] = np.zeros(shape=(total_steps, n_agents, 3))\n",
    "    example_data[\"n_subpoints\"] = points_per_fiber * np.ones(shape=(total_steps, n_agents))\n",
    "    example_data[\"subpoints\"] = box_size * np.random.uniform(\n",
    "        size=(total_steps, n_agents, points_per_fiber, 3)) - box_size * 0.5\n",
    "    example_data[\"viz_types\"] = np.array(total_steps * [n_agents * [1001.0]]) # fiber viz type = 1001\n",
    "    # no need to set radii since all agents are fibers"
   ]
  },
  {
   "cell_type": "markdown",
   "metadata": {},
   "source": [
    "## Convert and save as .simularium JSON file"
   ]
  },
  {
   "cell_type": "markdown",
   "metadata": {},
   "source": [
    "Once your data is shaped like in the `example_data` object, you can use the converter to generate the file at the given path:"
   ]
  },
  {
   "cell_type": "code",
   "execution_count": 6,
   "metadata": {},
   "outputs": [],
   "source": [
    "Converter(example_data).write_JSON(\"/Users/blairl/Desktop/example\")"
   ]
  },
  {
   "cell_type": "markdown",
   "metadata": {},
   "source": [
    "## Visualize in the Simularium viewer"
   ]
  },
  {
   "cell_type": "markdown",
   "metadata": {},
   "source": [
    "In your browser, either Firefox or Chrome, navigate to https://staging.agentviz.allencell.org/ and drag your file onto the center viewer window. \n",
    "\n",
    "*For now you'll first have to choose an example trajectory and close the load window. Once the example trajectory loads, you can drop your own file in to replace it. We'll fix this soon :)*"
   ]
  },
  {
   "cell_type": "code",
   "execution_count": null,
   "metadata": {},
   "outputs": [],
   "source": []
  }
 ],
 "metadata": {
  "kernelspec": {
   "display_name": "Python 3",
   "language": "python",
   "name": "python3"
  },
  "language_info": {
   "codemirror_mode": {
    "name": "ipython",
    "version": 3
   },
   "file_extension": ".py",
   "mimetype": "text/x-python",
   "name": "python",
   "nbconvert_exporter": "python",
   "pygments_lexer": "ipython3",
   "version": "3.8.5"
  }
 },
 "nbformat": 4,
 "nbformat_minor": 4
}
