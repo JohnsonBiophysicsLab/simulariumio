{
 "cells": [
  {
   "cell_type": "markdown",
   "metadata": {},
   "source": [
    "# Simularium Conversion Tutorial : Custom Data"
   ]
  },
  {
   "cell_type": "code",
   "execution_count": 1,
   "metadata": {},
   "outputs": [],
   "source": [
    "from IPython.display import Image\n",
    "import numpy as np\n",
    "from simulariumio import CustomConverter, CustomData, AgentData, UnitData"
   ]
  },
  {
   "cell_type": "markdown",
   "metadata": {},
   "source": [
    "This notebook provides example python code for converting your own simulation trajectories into the format consumed by the Simularium Viewer. It creates a .simularium JSON file which you can drag and drop onto the viewer like this:"
   ]
  },
  {
   "cell_type": "markdown",
   "metadata": {},
   "source": [
    "![title](img/drag_drop.gif)"
   ]
  },
  {
   "cell_type": "markdown",
   "metadata": {},
   "source": [
    "***\n",
    "## Prepare your spatial data"
   ]
  },
  {
   "cell_type": "markdown",
   "metadata": {},
   "source": [
    "The Simularium custom data Converter consumes spatiotemporal data from any source. It requires a `CustomData` object as parameter.\n",
    "\n",
    "`CustomData` contains the following:\n",
    "* **box_size** : *np.ndarray (shape = \\[3\\])*\n",
    "    * A numpy ndarray containing the XYZ dimensions of the simulation bounding volume\n",
    "* **agent_data** : `AgentData`\n",
    "    * An object containing data for each agent at each timestep\n",
    "* **time_units**: `UnitData` *(optional)*\n",
    "    * multiplier and unit name for time values\n",
    "    * Default: 1.0 second\n",
    "* **spatial_units**: `UnitData` *(optional)*\n",
    "    * multiplier and unit name for spatial values\n",
    "    * Default: 1.0 meter\n",
    "* **plots** : *List\\[Dict\\[str, Any\\]\\] (optional)*\n",
    "    * An object containing plot data already in Simularium format\n",
    "    \n",
    "`AgentData` contains the following:\n",
    "* **times** : *np.ndarray (shape = [timesteps])*\n",
    "    * A numpy ndarray containing the elapsed simulated time at each timestep (in the time units specified by **CustomData.time_unit_factor_seconds**)\n",
    "* **n_agents** : *np.ndarray (shape = [timesteps])*\n",
    "    * A numpy ndarray containing the number of agents that exist at each timestep\n",
    "* **viz_types** : *np.ndarray (shape = [timesteps, agents])*\n",
    "    * A numpy ndarray containing the viz type for each agent at each timestep. Current options:\n",
    "        * 1000 : default,\n",
    "        * 1001 : fiber (which will require subpoints)\n",
    "* **unique_ids** : *np.ndarray (shape = [timesteps, agents])*\n",
    "    * A numpy ndarray containing the unique ID for each agent at each timestep\n",
    "* **types** : *List[List[str]] (list of shape [timesteps, agents])*\n",
    "    * A list containing timesteps, for each a list of the string name for the type of each agent\n",
    "* **positions** : *np.ndarray (shape = [timesteps, agents, 3])*\n",
    "    * A numpy ndarray containing the XYZ position for each agent at each timestep\n",
    "* **radii** : *np.ndarray (shape = [timesteps, agents])*\n",
    "    * A numpy ndarray containing the radius for each agent at each timestep\n",
    "* **n_subpoints** : *np.ndarray (shape = [timesteps, agents]) (optional)*\n",
    "    * A numpy ndarray containing the number of subpoints belonging to each agent at each timestep. Required if subpoints are provided\n",
    "    * Default: None\n",
    "* **subpoints** : *np.ndarray (shape = [timesteps, agents, subpoints, 3]) (optional)*\n",
    "    * A numpy ndarray containing a list of subpoint position data for each agent at each timestep. These values are currently only used for fiber agents\n",
    "    * Default: None\n",
    "* **draw_fiber_points** : *bool (optional)*\n",
    "    * Draw spheres at every other fiber point for fibers?\n",
    "    * Default: False\n",
    "\n",
    "`UnitData` contains the following:\n",
    "* **name**: *str*\n",
    "    * unit name for values (we support this list https://github.com/hgrecco/pint/blob/master/pint/default_en.txt)\n",
    "* **magnitude**: *float (optional)*\n",
    "    * multiplier for values (in case they are not given in whole units)\n",
    "    * Default: 1.0"
   ]
  },
  {
   "cell_type": "markdown",
   "metadata": {},
   "source": [
    "### Generate example data"
   ]
  },
  {
   "cell_type": "markdown",
   "metadata": {},
   "source": [
    "To demonstrate using the custom converter, we'll first generate some random example data."
   ]
  },
  {
   "cell_type": "markdown",
   "metadata": {},
   "source": [
    "#### If there are NO fibers in the data:"
   ]
  },
  {
   "cell_type": "code",
   "execution_count": 2,
   "metadata": {},
   "outputs": [],
   "source": [
    "from string import ascii_uppercase\n",
    "from random import choice\n",
    "\n",
    "# parameters\n",
    "total_steps = 5\n",
    "timestep = 0.5\n",
    "box_size = 100\n",
    "n_agents = 5\n",
    "min_radius = 5\n",
    "max_radius = 10\n",
    "\n",
    "type_names = []\n",
    "for t in range(total_steps):\n",
    "    type_names.append([choice(ascii_uppercase) for i in range(n_agents)])\n",
    "    \n",
    "example_default_data = CustomData(\n",
    "    box_size=np.array([box_size, box_size, box_size]),\n",
    "    agent_data=AgentData(\n",
    "        times=timestep * np.array(list(range(total_steps))),\n",
    "        n_agents=np.array(total_steps * [n_agents]),\n",
    "        viz_types=np.array(total_steps * [n_agents * [1000.0]]),  # default viz type = 1000\n",
    "        unique_ids=np.array(total_steps * [list(range(n_agents))]),\n",
    "        types=type_names,\n",
    "        positions=np.random.uniform(size=(total_steps, n_agents, 3)) * box_size - box_size * 0.5,\n",
    "        radii=(max_radius - min_radius) * np.random.uniform(size=(total_steps, n_agents)) + min_radius\n",
    "    ),\n",
    "    time_units=UnitData(\"ns\"),  # nanoseconds\n",
    "    spatial_units=UnitData(\"nm\"),  # nanometers\n",
    ")"
   ]
  },
  {
   "cell_type": "markdown",
   "metadata": {},
   "source": [
    "#### Otherwise:"
   ]
  },
  {
   "cell_type": "code",
   "execution_count": 3,
   "metadata": {},
   "outputs": [],
   "source": [
    "from string import ascii_uppercase\n",
    "from random import choice\n",
    "\n",
    "# parameters\n",
    "total_steps = 5\n",
    "timestep = 0.5\n",
    "box_size = 100\n",
    "n_agents = 5\n",
    "min_radius = 5\n",
    "max_radius = 10\n",
    "points_per_fiber = 4\n",
    "\n",
    "type_names = []\n",
    "for t in range(total_steps):\n",
    "    type_names.append([choice(ascii_uppercase) for i in range(n_agents)])\n",
    "\n",
    "example_fiber_data = CustomData(\n",
    "    box_size=np.array([box_size, box_size, box_size]),\n",
    "    agent_data=AgentData(\n",
    "        times=timestep * np.array(list(range(total_steps))),\n",
    "        n_agents=np.array(total_steps * [n_agents]),\n",
    "        viz_types=np.array(total_steps * [n_agents * [1001.0]]), # fiber viz type = 1001\n",
    "        unique_ids=np.array(total_steps * [list(range(n_agents))]),\n",
    "        types=type_names,\n",
    "        positions=np.zeros(shape=(total_steps, n_agents, 3)),\n",
    "        radii=np.ones(shape=(total_steps, n_agents)),\n",
    "        n_subpoints=points_per_fiber * np.ones(shape=(total_steps, n_agents)),\n",
    "        subpoints=box_size * np.random.uniform(\n",
    "            size=(total_steps, n_agents, points_per_fiber, 3)) - box_size * 0.5\n",
    "    ),\n",
    "    time_units=UnitData(\"ns\"),  # nanoseconds\n",
    "    spatial_units=UnitData(\"nm\"),  # nanometers\n",
    ")"
   ]
  },
  {
   "cell_type": "markdown",
   "metadata": {},
   "source": [
    "## Convert and save as .simularium JSON file"
   ]
  },
  {
   "cell_type": "markdown",
   "metadata": {},
   "source": [
    "Once your data is shaped like in the `example_default_data` or `example_fiber_data` object, you can use the converter to generate the file at the given path:"
   ]
  },
  {
   "cell_type": "code",
   "execution_count": 4,
   "metadata": {},
   "outputs": [
    {
     "name": "stdout",
     "output_type": "stream",
     "text": [
      "Writing JSON -------------\n",
      "Reading Custom Data -------------\n",
      "saved to example_fibers.simularium\n",
      "Writing JSON -------------\n",
      "Reading Custom Data -------------\n",
      "saved to example_default.simularium\n"
     ]
    }
   ],
   "source": [
    "CustomConverter(example_fiber_data).write_JSON(\"example_fibers\")\n",
    "CustomConverter(example_default_data).write_JSON(\"example_default\")"
   ]
  },
  {
   "cell_type": "markdown",
   "metadata": {},
   "source": [
    "## Visualize in the Simularium viewer"
   ]
  },
  {
   "cell_type": "markdown",
   "metadata": {},
   "source": [
    "In a supported web-browser (Firefox or Chrome), navigate to https://simularium.allencell.org/ and import your file into the view."
   ]
  },
  {
   "cell_type": "code",
   "execution_count": null,
   "metadata": {},
   "outputs": [],
   "source": []
  }
 ],
 "metadata": {
  "kernelspec": {
   "display_name": "Python 3",
   "language": "python",
   "name": "python3"
  },
  "language_info": {
   "codemirror_mode": {
    "name": "ipython",
    "version": 3
   },
   "file_extension": ".py",
   "mimetype": "text/x-python",
   "name": "python",
   "nbconvert_exporter": "python",
   "pygments_lexer": "ipython3",
   "version": "3.8.5"
  }
 },
 "nbformat": 4,
 "nbformat_minor": 4
}
