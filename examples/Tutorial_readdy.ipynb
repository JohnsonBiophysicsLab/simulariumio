{
 "cells": [
  {
   "cell_type": "markdown",
   "metadata": {},
   "source": [
    "# Simularium Conversion Tutorial : ReaDDy Data"
   ]
  },
  {
   "cell_type": "code",
   "execution_count": 1,
   "metadata": {},
   "outputs": [],
   "source": [
    "from IPython.display import Image\n",
    "import numpy as np\n",
    "from simulariumio import ReaddyConverter, ReaddyData"
   ]
  },
  {
   "cell_type": "markdown",
   "metadata": {},
   "source": [
    "This notebook provides example python code for converting your own simulation trajectories into the format consumed by the Simularium Viewer. It creates a .simularium JSON file which you can drag and drop onto the viewer like this:"
   ]
  },
  {
   "cell_type": "markdown",
   "metadata": {},
   "source": [
    "![title](img/drag_drop.gif)"
   ]
  },
  {
   "cell_type": "markdown",
   "metadata": {},
   "source": [
    "***\n",
    "## Prepare your spatial data"
   ]
  },
  {
   "cell_type": "markdown",
   "metadata": {},
   "source": [
    "The Simularium `ReaddyConverter` consumes spatiotemporal data from ReaDDy. \n",
    "\n",
    "The converter requires a `ReaddyData` object as a parameter.\n",
    "\n",
    "`ReaddyData` contains the following:            \n",
    "* **box_size** : *np.ndarray (shape = \\[3\\])*\n",
    "    * A numpy ndarray containing the XYZ dimensions of the simulation bounding volume            \n",
    "* **timestep** : *float*\n",
    "    * A float amount of time that passes each step\n",
    "    * Default: 0.0            \n",
    "* **path_to_readdy_h5** : *str*\n",
    "    * A string path to the ReaDDy trajectory file (.h5)            \n",
    "* **radii** : *Dict\\[str, float\\] (optional)*\n",
    "    * A mapping of ReaDDy particle type to radius of each visualized sphere for that type\n",
    "    * Default: 1.0 (for each particle)            \n",
    "* **ignore_types** : *List\\[str\\] (optional)*\n",
    "    * A list of string ReaDDy particle types to ignore            \n",
    "* **type_grouping** : *Dict\\[str, List\\[str\\]\\] (optional)*\n",
    "    * A mapping of a new group type name to a list of ReaDDy particle types to include in that group\n",
    "    * e.g. {\"moleculeA\":\\[\"A1\",\"A2\",\"A3\"\\]}            \n",
    "* **scale_factor** : *float (optional)*\n",
    "    * A multiplier for the ReaDDy scene, use if visualization is too large or small\n",
    "    * Default: 1.0            \n",
    "* **plots** : *List\\[Dict\\[str, Any\\]\\] (optional)*\n",
    "    * An object containing plot data already in Simularium format"
   ]
  },
  {
   "cell_type": "code",
   "execution_count": 2,
   "metadata": {},
   "outputs": [],
   "source": [
    "box_size = 20.\n",
    "\n",
    "example_data = ReaddyData(\n",
    "    box_size=np.array([box_size, box_size, box_size]),\n",
    "    timestep=0.1,\n",
    "    path_to_readdy_h5=\"../simulariumio/tests/data/readdy/test.h5\",\n",
    "    radii={\n",
    "        \"A\" : 2.0,\n",
    "        \"B\" : 2.0\n",
    "    },\n",
    "    type_grouping={\n",
    "        \"C\" : [\"A\"]\n",
    "    },\n",
    ")"
   ]
  },
  {
   "cell_type": "markdown",
   "metadata": {},
   "source": [
    "## Convert and save as .simularium JSON file"
   ]
  },
  {
   "cell_type": "markdown",
   "metadata": {},
   "source": [
    "Once your data is shaped like in the `example_data` object, you can use the converter to generate the file at the given path:"
   ]
  },
  {
   "cell_type": "code",
   "execution_count": 3,
   "metadata": {},
   "outputs": [],
   "source": [
    "ReaddyConverter(example_data).write_JSON(\"/Users/blairl/Desktop/readdy_example\")"
   ]
  },
  {
   "cell_type": "markdown",
   "metadata": {},
   "source": [
    "## Visualize in the Simularium viewer"
   ]
  },
  {
   "cell_type": "markdown",
   "metadata": {},
   "source": [
    "In your browser, either Firefox or Chrome, navigate to https://staging.simularium.allencell.org/ and import your file into the view."
   ]
  },
  {
   "cell_type": "code",
   "execution_count": null,
   "metadata": {},
   "outputs": [],
   "source": []
  }
 ],
 "metadata": {
  "kernelspec": {
   "display_name": "Python 3",
   "language": "python",
   "name": "python3"
  },
  "language_info": {
   "codemirror_mode": {
    "name": "ipython",
    "version": 3
   },
   "file_extension": ".py",
   "mimetype": "text/x-python",
   "name": "python",
   "nbconvert_exporter": "python",
   "pygments_lexer": "ipython3",
   "version": "3.8.5"
  }
 },
 "nbformat": 4,
 "nbformat_minor": 4
}
