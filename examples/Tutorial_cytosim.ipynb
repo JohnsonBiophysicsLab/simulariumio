{
 "cells": [
  {
   "cell_type": "markdown",
   "metadata": {},
   "source": [
    "# Simularium Conversion Tutorial : CytoSim Data"
   ]
  },
  {
   "cell_type": "code",
   "execution_count": 1,
   "metadata": {},
   "outputs": [],
   "source": [
    "from IPython.display import Image\n",
    "import numpy as np\n",
    "from simulariumio import Converter"
   ]
  },
  {
   "cell_type": "markdown",
   "metadata": {},
   "source": [
    "This notebook provides example python code for converting your own simulation trajectories into the format consumed by the Simularium Viewer. It creates a .simularium JSON file which you can drag and drop onto the viewer like this:"
   ]
  },
  {
   "cell_type": "markdown",
   "metadata": {},
   "source": [
    "![title](img/drag_drop.gif)"
   ]
  },
  {
   "cell_type": "markdown",
   "metadata": {},
   "source": [
    "***\n",
    "## Prepare your spatial data"
   ]
  },
  {
   "cell_type": "markdown",
   "metadata": {},
   "source": [
    "The Simularium custom data Converter consumes spatiotemporal data from CytoSim. \n",
    "\n",
    "To see how to generate these files, check Cytosim documentation here: https://gitlab.com/f.nedelec/cytosim-stable/-/blob/master/doc/sim/report.md\n",
    "* for Fibers, use the command `./report fiber:points > fiber_points.txt`, which will create `fiber_points.txt`\n",
    "* for Solids, use the command `./report solid > solids.txt`, which will create `solids.txt`\n",
    "* for Singles, use the command `./report single:position > singles.txt`, which will create `singles.txt`\n",
    "* for Couples, use the command `./report couple:position > couples.txt`, which will create `couples.txt`\n",
    "\n",
    "The Converter requires the following data:\n",
    "* **box_size** : *np.ndarray (shape = [3])*\n",
    "    * A numpy ndarray containing the XYZ dimensions of the simulation bounding volume\n",
    "* **data** : *Dict[str, Any]*\n",
    "    * **fibers** : *Dict[str, Any]*\n",
    "        * **filepath** : *str*\n",
    "            * path to fiber_points.txt\n",
    "        * **types** : *Dict[str, str]* (optional)\n",
    "            * the type index from Cytosim data mapped to display names for each type of fiber\n",
    "            * Default: \"fiber[type index from Cytosim data]\"\n",
    "    * **solids** : *Dict[str, Any]*\n",
    "        * **filepath** : *str*\n",
    "            * path to fiber_points.txt\n",
    "        * **types** : *Dict[str, str]* (optional)\n",
    "            * the type index from Cytosim data mapped to display names for each type of solid\n",
    "            * Default: \"solid[type index from Cytosim data]\"\n",
    "        * **radii** : *Dict[str, float]* (optional)\n",
    "            * the type index from Cytosim data mapped to radius for each type of solid\n",
    "            * Default: 1.0\n",
    "    * **singles** : *Dict[str, Any]*\n",
    "        * **filepath** : *str*\n",
    "            * path to fiber_points.txt\n",
    "        * **types** : *Dict[str, str]* (optional)\n",
    "            * the type index from Cytosim data mapped to display names for each type of single\n",
    "            * Default: \"single[type index from Cytosim data]\"\n",
    "            * Default: \"solid[type index from Cytosim data]\"\n",
    "        * **radii** : *Dict[str, float]* (optional)\n",
    "            * the type index from Cytosim data mapped to radius for each type of single\n",
    "            * Default: 1.0\n",
    "    * **couples** : *Dict[str, Any]*\n",
    "        * **filepath** : *str*\n",
    "            * path to fiber_points.txt\n",
    "        * **types** : *Dict[str, str]* (optional)\n",
    "            * the type index from Cytosim data mapped to display names for each type of couple\n",
    "            * Default: \"couple[type index from Cytosim data]\"\n",
    "            * Default: \"solid[type index from Cytosim data]\"\n",
    "        * **radii** : *Dict[str, float]* (optional)\n",
    "            * the type index from Cytosim data mapped to radius for each type of couple\n",
    "            * Default: 1.0\n",
    "    \n",
    "Optionally, you can also include:\n",
    "* **scale_factor** : *float*\n",
    "    * A multiplier for the Cytosim scene, use if visualization is too large or small\n",
    "    * Default: 1.0\n",
    "* **plots** : *Dict[str, Any]*\n",
    "    * An object containing plot data already in Simularium format"
   ]
  },
  {
   "cell_type": "code",
   "execution_count": 2,
   "metadata": {},
   "outputs": [],
   "source": [
    "box_size = 2.\n",
    "\n",
    "example_data = {\n",
    "    \"box_size\" : np.array([box_size, box_size, box_size]),\n",
    "    \"data\" : {\n",
    "        \"fibers\" : {\n",
    "            \"filepath\" : \"../simulariumio/tests/data/cytosim/aster_pull3D_actin_solid/fiber_points.txt\",\n",
    "            \"types\" : {\n",
    "                \"1\" : \"microtubule\",\n",
    "                \"2\" : \"actin\"\n",
    "            }\n",
    "        },\n",
    "        \"solids\" : {\n",
    "            \"filepath\" : \"../simulariumio/tests/data/cytosim/aster_pull3D_actin_solid/solids.txt\",\n",
    "            \"types\" : {\n",
    "                \"1\" : \"aster\",\n",
    "                \"2\" : \"vesicle\"\n",
    "            },\n",
    "            \"radii\" : {\n",
    "                \"1\" : 0.1,\n",
    "                \"2\" : 0.1\n",
    "            }\n",
    "        },\n",
    "        \"singles\" : {\n",
    "            \"filepath\" : \"../simulariumio/tests/data/cytosim/aster_pull3D_actin_solid/singles.txt\",\n",
    "            \"types\" : {\n",
    "                \"1\" : \"dynein\",\n",
    "                \"2\" : \"kinesin\"\n",
    "            },\n",
    "            \"radii\" : {\n",
    "                \"1\" : 0.01,\n",
    "                \"2\" : 0.01\n",
    "            }\n",
    "        }\n",
    "    },\n",
    "    \"scale_factor\" : 100.0\n",
    "}"
   ]
  },
  {
   "cell_type": "markdown",
   "metadata": {},
   "source": [
    "## Convert and save as .simularium JSON file"
   ]
  },
  {
   "cell_type": "markdown",
   "metadata": {},
   "source": [
    "Once your data is shaped like in the `example_data` object, you can use the converter to generate the file at the given path:"
   ]
  },
  {
   "cell_type": "code",
   "execution_count": 3,
   "metadata": {},
   "outputs": [],
   "source": [
    "Converter(example_data, \"cytosim\").write_JSON(\"/Users/blairl/Desktop/cytosim_example\")"
   ]
  },
  {
   "cell_type": "markdown",
   "metadata": {},
   "source": [
    "## Visualize in the Simularium viewer"
   ]
  },
  {
   "cell_type": "markdown",
   "metadata": {},
   "source": [
    "In your browser, either Firefox or Chrome, navigate to https://staging.agentviz.allencell.org/ and drag your file onto the center viewer window. \n",
    "\n",
    "*For now you'll first have to choose an example trajectory and close the load window. Once the example trajectory loads, you can drop your own file in to replace it. We'll fix this soon :)*"
   ]
  },
  {
   "cell_type": "code",
   "execution_count": null,
   "metadata": {},
   "outputs": [],
   "source": []
  }
 ],
 "metadata": {
  "kernelspec": {
   "display_name": "Python 3",
   "language": "python",
   "name": "python3"
  },
  "language_info": {
   "codemirror_mode": {
    "name": "ipython",
    "version": 3
   },
   "file_extension": ".py",
   "mimetype": "text/x-python",
   "name": "python",
   "nbconvert_exporter": "python",
   "pygments_lexer": "ipython3",
   "version": "3.8.5"
  }
 },
 "nbformat": 4,
 "nbformat_minor": 4
}
