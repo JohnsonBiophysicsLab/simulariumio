{
 "cells": [
  {
   "cell_type": "markdown",
   "metadata": {},
   "source": [
    "# Simularium Conversion Tutorial : Custom Data"
   ]
  },
  {
   "cell_type": "code",
   "execution_count": 1,
   "metadata": {},
   "outputs": [],
   "source": [
    "from IPython.display import Image\n",
    "import numpy as np\n",
    "from simulariumio import Converter"
   ]
  },
  {
   "cell_type": "markdown",
   "metadata": {},
   "source": [
    "This notebook provides example python code for converting your own simulation trajectories into the format consumed by the Simularium Viewer. It creates a .simularium JSON file which you can drag and drop onto the viewer like this:"
   ]
  },
  {
   "cell_type": "markdown",
   "metadata": {},
   "source": [
    "![title](img/drag_drop.gif)"
   ]
  },
  {
   "cell_type": "markdown",
   "metadata": {},
   "source": [
    "***\n",
    "## Prepare your spatial data"
   ]
  },
  {
   "cell_type": "markdown",
   "metadata": {},
   "source": [
    "The Simularium custom data Converter consumes spatiotemporal data from any source. It requires the following data:\n",
    "* **box_size** : *np.ndarray (shape = [3])*\n",
    "    * A numpy ndarray containing the XYZ dimensions of the simulation bounding volume\n",
    "* **times** : *np.ndarray (shape = [timesteps])*\n",
    "    * A numpy ndarray containing the elapsed simulated time at each timestep\n",
    "* **n_agents** : *np.ndarray (shape = [timesteps])*\n",
    "    * A numpy ndarray containing the number of agents that exist at each timestep\n",
    "* **viz_types** : *np.ndarray (shape = [timesteps, agents])*\n",
    "    * A numpy ndarray containing the viz type for each agent at each timestep. Current options:\n",
    "        * 1000 : default,\n",
    "        * 1001 : fiber (which will require subpoints)\n",
    "* **positions** : *np.ndarray (shape = [timesteps, agents, 3])*\n",
    "    * A numpy ndarray containing the XYZ position for each agent at each timestep\n",
    "* **types** : *List[List[str]] (list of shape [timesteps, agents])*\n",
    "    * A list containing timesteps, for each a list of the string name for the type of each agent\n",
    "* **radii** : *np.ndarray (shape = [timesteps, agents])*\n",
    "    * A numpy ndarray containing the radius for each agent at each timestep\n",
    "    \n",
    "Optionally, you can also include:\n",
    "* **subpoints** : *np.ndarray (shape = [timesteps, agents, subpoints, 3])*\n",
    "    * A numpy ndarray containing a list of subpoint position data for each agent at each timestep. These values are currently only used for fiber agents.\n",
    "* **plots** : *Dict[str, Any]*\n",
    "    * An object containing plot data already in Simularium format"
   ]
  },
  {
   "cell_type": "markdown",
   "metadata": {},
   "source": [
    "### Generate example data"
   ]
  },
  {
   "cell_type": "markdown",
   "metadata": {},
   "source": [
    "To demonstrate using the custom converter, we'll first generate some random example data."
   ]
  },
  {
   "cell_type": "code",
   "execution_count": 2,
   "metadata": {},
   "outputs": [],
   "source": [
    "from string import ascii_uppercase\n",
    "from random import choice\n",
    "\n",
    "# parameters\n",
    "total_steps = 5\n",
    "timestep = 0.5\n",
    "box_size = 100\n",
    "n_agents = 5\n",
    "min_radius = 5\n",
    "max_radius = 10\n",
    "agents_are_fibers = False\n",
    "points_per_fiber = 4\n",
    "\n",
    "example_data = {\n",
    "    \"box_size\" : np.array([box_size, box_size, box_size]),\n",
    "    \"times\" : timestep * np.array(list(range(total_steps))),\n",
    "    \"n_agents\" : np.array(total_steps * [n_agents]),\n",
    "    \"types\" : []\n",
    "}\n",
    "for t in range(total_steps):\n",
    "    example_data[\"types\"].append([choice(ascii_uppercase) for i in range(n_agents)])"
   ]
  },
  {
   "cell_type": "markdown",
   "metadata": {},
   "source": [
    "### Sphere visualization"
   ]
  },
  {
   "cell_type": "markdown",
   "metadata": {},
   "source": [
    "If the agents are particles to be visualized as spheres, their centroid positions can be added like this:"
   ]
  },
  {
   "cell_type": "code",
   "execution_count": 3,
   "metadata": {},
   "outputs": [],
   "source": [
    "if not agents_are_fibers:\n",
    "    example_data[\"positions\"] = np.random.uniform(size=(total_steps, n_agents, 3)) * box_size - box_size * 0.5\n",
    "    example_data[\"viz_types\"] = np.array(total_steps * [n_agents * [1000.0]]) # default viz type = 1000\n",
    "    example_data[\"radii\"] = (max_radius - min_radius) * np.random.uniform(size=(total_steps, n_agents)) + min_radius"
   ]
  },
  {
   "cell_type": "markdown",
   "metadata": {},
   "source": [
    "### Line visualization"
   ]
  },
  {
   "cell_type": "markdown",
   "metadata": {},
   "source": [
    "If the agents are fibers to be visualized as lines, the positions of points along each fiber can be added using the optional subpoints:"
   ]
  },
  {
   "cell_type": "code",
   "execution_count": 4,
   "metadata": {},
   "outputs": [],
   "source": [
    "if agents_are_fibers:\n",
    "    example_data[\"positions\"] = np.zeros(shape=(total_steps, n_agents, 3))\n",
    "    example_data[\"subpoints\"] = box_size * np.random.uniform(\n",
    "        size=(total_steps, n_agents, points_per_fiber, 3)) - box_size * 0.5\n",
    "    example_data[\"viz_types\"] = np.array(total_steps * [n_agents * [1001.0]]) # fiber viz type = 1001\n",
    "    example_data[\"radii\"] = np.zeros(shape=(total_steps, n_agents))"
   ]
  },
  {
   "cell_type": "markdown",
   "metadata": {},
   "source": [
    "Inspect the resulting data:"
   ]
  },
  {
   "cell_type": "code",
   "execution_count": 5,
   "metadata": {
    "scrolled": true
   },
   "outputs": [
    {
     "name": "stdout",
     "output_type": "stream",
     "text": [
      "box size = [100 100 100]\n",
      "times = [0.  0.5 1.  1.5 2. ]\n",
      "number of agents = [5 5 5 5 5]\n",
      "viz types = [[1000. 1000. 1000. 1000. 1000.]\n",
      " [1000. 1000. 1000. 1000. 1000.]\n",
      " [1000. 1000. 1000. 1000. 1000.]\n",
      " [1000. 1000. 1000. 1000. 1000.]\n",
      " [1000. 1000. 1000. 1000. 1000.]]\n",
      "positions = [[[  9.5312851   -9.2240184  -17.81748096]\n",
      "  [ 27.93479996 -31.66498757   6.82480489]\n",
      "  [ 34.25580236 -27.93179914 -49.07445191]\n",
      "  [ 33.52012837  -8.44489426  28.55286451]\n",
      "  [  1.5425217   37.98078987 -42.72384527]]\n",
      "\n",
      " [[-37.87303881 -44.67350242  40.26606988]\n",
      "  [-31.30852262  -9.57517211  28.59633009]\n",
      "  [ 46.07624816 -28.24140652 -33.97519619]\n",
      "  [  8.36480235  -4.73641611  35.5778553 ]\n",
      "  [-45.4707163   -0.39389959 -27.99590522]]\n",
      "\n",
      " [[-47.15608923   8.1161568   -2.67853815]\n",
      "  [-49.19397705 -13.08796532  47.20505647]\n",
      "  [-15.84389489  31.6293337   20.69530783]\n",
      "  [ 38.33628897 -23.76067501  -1.08162202]\n",
      "  [-25.25684242 -39.96311877 -43.9026804 ]]\n",
      "\n",
      " [[-27.1520531    5.83440243 -16.5381972 ]\n",
      "  [ 32.78905856  32.06090865 -44.90670376]\n",
      "  [-33.80798753  43.94395893  49.47600625]\n",
      "  [-21.4344693  -46.31202448  12.31070289]\n",
      "  [-47.19819824  31.45338074  48.27644129]]\n",
      "\n",
      " [[ 36.4879308    7.60369117 -42.67285948]\n",
      "  [ 46.02718826  26.84003835   7.64866809]\n",
      "  [-33.21832324  29.12048503 -13.0246511 ]\n",
      "  [ 14.89011828  47.52593652 -16.72598856]\n",
      "  [ -5.99837785  43.37266407 -44.39490042]]]\n",
      "types = [['D', 'F', 'X', 'M', 'S'], ['N', 'R', 'L', 'Q', 'F'], ['J', 'Y', 'E', 'D', 'R'], ['S', 'T', 'Y', 'L', 'C'], ['I', 'W', 'W', 'G', 'G']]\n",
      "radii = [[8.77260763 7.43254998 7.07773319 7.46870508 9.35651821]\n",
      " [8.14975908 9.04123671 8.73826865 9.58407874 9.84779558]\n",
      " [9.34557207 5.80346762 6.34180103 5.36164559 8.38051665]\n",
      " [6.83753478 9.83261049 5.42094988 9.840317   8.89845443]\n",
      " [9.41455283 6.90287823 9.55930925 8.41146501 7.49731344]]\n"
     ]
    }
   ],
   "source": [
    "print(\"box size = {}\".format(example_data[\"box_size\"]))\n",
    "print(\"times = {}\".format(example_data[\"times\"]))\n",
    "print(\"number of agents = {}\".format(example_data[\"n_agents\"]))\n",
    "print(\"viz types = {}\".format(example_data[\"viz_types\"]))\n",
    "print(\"positions = {}\".format(example_data[\"positions\"]))\n",
    "print(\"types = {}\".format(example_data[\"types\"]))\n",
    "print(\"radii = {}\".format(example_data[\"radii\"]))\n",
    "if agents_are_fibers:\n",
    "    print(\"subpoints = {}\".format(example_data[\"subpoints\"]))"
   ]
  },
  {
   "cell_type": "markdown",
   "metadata": {},
   "source": [
    "## Convert and save as .simularium JSON file"
   ]
  },
  {
   "cell_type": "markdown",
   "metadata": {},
   "source": [
    "Once your data is shaped like in the `example_data` object, you can use the converter to generate the file at the given path:"
   ]
  },
  {
   "cell_type": "code",
   "execution_count": 6,
   "metadata": {},
   "outputs": [],
   "source": [
    "converter = Converter(example_data)\n",
    "converter.write_JSON(\"/Users/blairl/Desktop/example\")"
   ]
  },
  {
   "cell_type": "markdown",
   "metadata": {},
   "source": [
    "***\n",
    "## Add plots"
   ]
  },
  {
   "cell_type": "markdown",
   "metadata": {},
   "source": [
    "You can optionally include metrics data, which will be graphed in plots alongside your spatial data in the Simularium viewer. For now, Simularium supports scatterplots and histograms."
   ]
  },
  {
   "cell_type": "markdown",
   "metadata": {},
   "source": [
    "### Scatterplots"
   ]
  },
  {
   "cell_type": "markdown",
   "metadata": {},
   "source": [
    "Scatterplots require the following data:\n",
    "* **title** : *str*\n",
    "    * A string display title for the plot\n",
    "* **xaxis_title** : *str*\n",
    "    * A string label (with units) for the x-axis\n",
    "* **yaxis_title** : *str*\n",
    "    * A string label (with units) for the y-axis\n",
    "* **xtrace** : *np.ndarray (shape = [x values])*\n",
    "    * A numpy ndarray of values for x, the independent variable\n",
    "* **ytraces** : *Dict[str, np.ndarray (shape = [x values])]*\n",
    "    * A dictionary with y-trace display names as keys, each mapped to a numpy ndarray of values for y, the dependent variable\n",
    "* **render_mode** : *str (optional)*\n",
    "    * A string specifying how to draw the datapoints. Options:\n",
    "        * 'markers' : draw as points\n",
    "        * 'lines' : connect points with line\n",
    "    * Default: 'markers'"
   ]
  },
  {
   "cell_type": "markdown",
   "metadata": {},
   "source": [
    "Here's some random example scatterplot data:"
   ]
  },
  {
   "cell_type": "code",
   "execution_count": 7,
   "metadata": {},
   "outputs": [],
   "source": [
    "scatter_plot = {\n",
    "    \"title\": \"Test Scatterplot 1\",\n",
    "    \"xaxis_title\": \"time (ns)\",\n",
    "    \"yaxis_title\": \"concentration (uM)\",\n",
    "    \"xtrace\": np.array(list(range(10))),\n",
    "    \"ytraces\": {\n",
    "        \"agent1\": 100 * np.random.uniform(size=(10)),\n",
    "        \"agent2\": 100 * np.random.uniform(size=(10)),\n",
    "        \"agent3\": 100 * np.random.uniform(size=(10)),\n",
    "    },\n",
    "    \"render_mode\": \"lines\"\n",
    "}"
   ]
  },
  {
   "cell_type": "code",
   "execution_count": 8,
   "metadata": {
    "scrolled": true
   },
   "outputs": [
    {
     "name": "stdout",
     "output_type": "stream",
     "text": [
      "title = Test Scatterplot 1\n",
      "xaxis_title = time (ns)\n",
      "yaxis_title = concentration (uM)\n",
      "xtrace = [0 1 2 3 4 5 6 7 8 9]\n",
      "ytraces:\n",
      "  agent1 = [19.35549636 60.25624246 95.32372489 36.61145118 42.58156768  6.34576689\n",
      "  6.33212739 32.42412574 22.37868681 42.63289989]\n",
      "  agent2 = [89.74526936 10.98069575  9.53999968 69.87143417 71.18053283 29.23632643\n",
      "  0.87434113 20.30243689 26.48959454 23.42159043]\n",
      "  agent2 = [57.09419399 76.57438212 63.78014238 15.79434719  6.066279   41.16115965\n",
      " 68.14454336 55.71886738 46.43468864 28.87955534]\n",
      "render_mode = lines\n"
     ]
    }
   ],
   "source": [
    "print(\"title = {}\".format(scatter_plot[\"title\"]))\n",
    "print(\"xaxis_title = {}\".format(scatter_plot[\"xaxis_title\"]))\n",
    "print(\"yaxis_title = {}\".format(scatter_plot[\"yaxis_title\"]))\n",
    "print(\"xtrace = {}\".format(scatter_plot[\"xtrace\"]))\n",
    "print(\"ytraces:\")\n",
    "print(\"  agent1 = {}\".format(scatter_plot[\"ytraces\"][\"agent1\"]))\n",
    "print(\"  agent2 = {}\".format(scatter_plot[\"ytraces\"][\"agent2\"]))\n",
    "print(\"  agent2 = {}\".format(scatter_plot[\"ytraces\"][\"agent3\"]))\n",
    "print(\"render_mode = {}\".format(scatter_plot[\"render_mode\"]))"
   ]
  },
  {
   "cell_type": "markdown",
   "metadata": {},
   "source": [
    "To add it to the converter:"
   ]
  },
  {
   "cell_type": "code",
   "execution_count": 9,
   "metadata": {},
   "outputs": [],
   "source": [
    "converter.add_plot(scatter_plot, \"scatter\")"
   ]
  },
  {
   "cell_type": "markdown",
   "metadata": {},
   "source": [
    "### Histograms"
   ]
  },
  {
   "cell_type": "markdown",
   "metadata": {},
   "source": [
    "Histograms require the following data:\n",
    "* **title** : *str*\n",
    "    * A string display title for the plot\n",
    "* ***xaxis_title*** : *str*\n",
    "    * A string label (with units) for the x-axis\n",
    "* **traces** : *Dict[str, np.ndarray (shape = [values])]*\n",
    "    * A dictionary with trace display names as keys, each mapped to a numpy ndarray of values"
   ]
  },
  {
   "cell_type": "markdown",
   "metadata": {},
   "source": [
    "Here's some random example histogram data:"
   ]
  },
  {
   "cell_type": "code",
   "execution_count": 10,
   "metadata": {},
   "outputs": [],
   "source": [
    "histogram = {\n",
    "    \"title\": \"Test Histogram 1\",\n",
    "    \"xaxis_title\": \"angle (degrees)\",\n",
    "    \"traces\": {\n",
    "        \"crosslinked monomers\": 2 * np.random.uniform(size=(15)),\n",
    "        \"bent monomers\": 10 * np.random.uniform(size=(10)),\n",
    "    }\n",
    "}"
   ]
  },
  {
   "cell_type": "code",
   "execution_count": 11,
   "metadata": {},
   "outputs": [
    {
     "name": "stdout",
     "output_type": "stream",
     "text": [
      "title = Test Histogram 1\n",
      "xaxis_title = angle (degrees)\n",
      "traces:\n",
      "  crosslinked monomers = [1.0169134  0.59357147 1.11322745 1.79753867 0.53335699 0.64159541\n",
      " 1.23957633 0.961855   0.31864161 0.2253905  1.01900759 0.74037665\n",
      " 0.67161706 0.65636688 1.54410297]\n",
      "  bent monomers = [0.54369771 1.04864076 6.80810805 9.6930704  7.93284429 0.83999209\n",
      " 5.9994699  4.12754526 7.20454793 4.49662127]\n"
     ]
    }
   ],
   "source": [
    "print(\"title = {}\".format(histogram[\"title\"]))\n",
    "print(\"xaxis_title = {}\".format(histogram[\"xaxis_title\"]))\n",
    "print(\"traces:\")\n",
    "print(\"  crosslinked monomers = {}\".format(histogram[\"traces\"][\"crosslinked monomers\"]))\n",
    "print(\"  bent monomers = {}\".format(histogram[\"traces\"][\"bent monomers\"]))"
   ]
  },
  {
   "cell_type": "markdown",
   "metadata": {},
   "source": [
    "To add it to the converter:"
   ]
  },
  {
   "cell_type": "code",
   "execution_count": 12,
   "metadata": {},
   "outputs": [],
   "source": [
    "converter.add_plot(histogram, \"histogram\")"
   ]
  },
  {
   "cell_type": "markdown",
   "metadata": {},
   "source": [
    "### Save the data with added plots"
   ]
  },
  {
   "cell_type": "markdown",
   "metadata": {},
   "source": [
    "Once you've added your plot data, write the updated data to file:"
   ]
  },
  {
   "cell_type": "code",
   "execution_count": 13,
   "metadata": {},
   "outputs": [],
   "source": [
    "converter.write_JSON(\"/Users/blairl/Desktop/example\")"
   ]
  },
  {
   "cell_type": "markdown",
   "metadata": {},
   "source": [
    "## Visualize in the Simularium viewer"
   ]
  },
  {
   "cell_type": "markdown",
   "metadata": {},
   "source": [
    "In your browser, either Firefox or Chrome, navigate to https://staging.agentviz.allencell.org/ and drag your file onto the center viewer window. \n",
    "\n",
    "*For now you'll first have to choose an example trajectory and close the load window. Once the example trajectory loads, you can drop your own file in to replace it. We'll fix this soon :)*"
   ]
  },
  {
   "cell_type": "code",
   "execution_count": null,
   "metadata": {},
   "outputs": [],
   "source": []
  }
 ],
 "metadata": {
  "kernelspec": {
   "display_name": "Python 3",
   "language": "python",
   "name": "python3"
  },
  "language_info": {
   "codemirror_mode": {
    "name": "ipython",
    "version": 3
   },
   "file_extension": ".py",
   "mimetype": "text/x-python",
   "name": "python",
   "nbconvert_exporter": "python",
   "pygments_lexer": "ipython3",
   "version": "3.8.5"
  }
 },
 "nbformat": 4,
 "nbformat_minor": 4
}
