{
 "cells": [
  {
   "cell_type": "markdown",
   "metadata": {},
   "source": [
    "# Simularium Conversion Tutorial : CytoSim Data"
   ]
  },
  {
   "cell_type": "code",
   "execution_count": 1,
   "metadata": {},
   "outputs": [],
   "source": [
    "from IPython.display import Image\n",
    "import numpy as np\n",
    "from simulariumio import CytosimConverter, CytosimData, CytosimObjectInfo, CytosimAgentInfo"
   ]
  },
  {
   "cell_type": "markdown",
   "metadata": {},
   "source": [
    "This notebook provides example python code for converting your own simulation trajectories into the format consumed by the Simularium Viewer. It creates a .simularium JSON file which you can drag and drop onto the viewer like this:"
   ]
  },
  {
   "cell_type": "markdown",
   "metadata": {},
   "source": [
    "![title](img/drag_drop.gif)"
   ]
  },
  {
   "cell_type": "markdown",
   "metadata": {},
   "source": [
    "***\n",
    "## Prepare your spatial data"
   ]
  },
  {
   "cell_type": "markdown",
   "metadata": {},
   "source": [
    "The Simularium `CytosimConverter` consumes spatiotemporal data from CytoSim. \n",
    "\n",
    "To see how to generate Cytosim output .txt files, check Cytosim documentation here: https://gitlab.com/f.nedelec/cytosim-stable/-/blob/master/doc/sim/report.md\n",
    "* for Fibers, use the command `./report fiber:points > fiber_points.txt`, which will create `fiber_points.txt`\n",
    "* for Solids, use the command `./report solid > solids.txt`, which will create `solids.txt`\n",
    "* for Singles, use the command `./report single:position > singles.txt`, which will create `singles.txt`\n",
    "* for Couples, use the command `./report couple:state > couples.txt`, which will create `couples.txt`\n",
    "    * in some versions of Cytosim, state is not a reporting option. In this case you can use `./report couple:[name of your couple] > couples_[name of your couple].txt` and provide a filepath for each type of couple in your data. If this is necessary, you should also check the position XYZ columns in your `couples.txt` file and override **position_indices** if they aren't at \\[2, 3, 4\\]\n",
    "\n",
    "The converter requires a `CytosimData` object as parameter.\n",
    "\n",
    "`CytosimData` contains the following:\n",
    "* **box_size** : *np.ndarray (shape = \\[3\\])*\n",
    "    * A numpy ndarray containing the XYZ dimensions of the simulation bounding volume\n",
    "        * *for now we only support rectangular bounds, but will be adding support for spheres soon*\n",
    "* **object_info** : *Dict\\[str, `CytosimObjectInfo`\\]*\n",
    "    * A dict mapping Cytosim object type (either \"fibers\", \"solids\", \"singles\", or \"couples\") to info for reading the Cytosim data for agents of that object type\n",
    "* **draw_fiber_points** : *bool (optional)*\n",
    "    * (only used for fibers)\n",
    "    * in addition to drawing a line for each fiber, also draw spheres at every other point along it?\n",
    "    * Default: False\n",
    "* **scale_factor** : *float (optional)*\n",
    "    * A multiplier for the Cytosim scene, use if visualization is too large or small\n",
    "    * Default: 1.0\n",
    "* **plots** : *List\\[Dict\\[str, Any\\]\\] (optional)*\n",
    "    * An object containing plot data already in Simularium format\n",
    "    \n",
    "`CytosimObjectInfo` contains the following:\n",
    "* **filepath** : *str*\n",
    "    * A string path to fiber_points.txt\n",
    "* **agents** : *Dict\\[int, `CytosimAgentInfo`\\] (optional)*\n",
    "    * A dict mapping the type index from Cytosim data to display names and radii for each type of agent of this type of Cytosim object\n",
    "* **position_indices** : *List\\[int\\] (optional)*\n",
    "    * the columns in Cytosim's reports are not always consistent, use this to override them if your output file has different column indices for position XYZ\n",
    "    * Default: \\[2, 3, 4\\]\n",
    "    \n",
    "`CytosimAgentInfo` contains the following:\n",
    "* **name** : *str*\n",
    "    * A string display name for this type of agent\n",
    "    * Default: \"[Cytosim object type][agent type index from Cytosim data]\" e.g. \"fiber1\", \"solid0\"\n",
    "* **radius** : *float (optional)*\n",
    "    * A float radius for rendering this agent.\n",
    "    * For fibers, this is the thickness of the line\n",
    "    * For default agents, this is the radius of the sphere\n",
    "    * Default : 1.0\n",
    "  "
   ]
  },
  {
   "cell_type": "code",
   "execution_count": 2,
   "metadata": {},
   "outputs": [],
   "source": [
    "box_size = 2.\n",
    "\n",
    "example_data = CytosimData(\n",
    "    box_size=np.array([box_size, box_size, box_size]),\n",
    "    object_info={\n",
    "        \"fibers\" : CytosimObjectInfo(\n",
    "            filepath=\"../simulariumio/tests/data/cytosim/aster_pull3D_couples_actin_solid/fiber_points.txt\",\n",
    "            agents={\n",
    "                \"1\" : CytosimAgentInfo(\n",
    "                    name=\"microtubule\"\n",
    "                ),\n",
    "                \"2\" : CytosimAgentInfo(\n",
    "                    name=\"actin\"\n",
    "                )\n",
    "            }\n",
    "        ),\n",
    "        \"solids\" : CytosimObjectInfo(\n",
    "            filepath=\"../simulariumio/tests/data/cytosim/aster_pull3D_couples_actin_solid/solids.txt\",\n",
    "            agents={\n",
    "                \"1\" : CytosimAgentInfo(\n",
    "                    name=\"aster\",\n",
    "                    radius=0.1\n",
    "                ),\n",
    "                \"2\" : CytosimAgentInfo(\n",
    "                    name=\"vesicle\",\n",
    "                    radius=0.1\n",
    "                )\n",
    "            }\n",
    "        ),\n",
    "        \"singles\" : CytosimObjectInfo(\n",
    "            filepath=\"../simulariumio/tests/data/cytosim/aster_pull3D_couples_actin_solid/singles.txt\",\n",
    "            agents={\n",
    "                \"1\" : CytosimAgentInfo(\n",
    "                    name=\"dynein\",\n",
    "                    radius=0.01\n",
    "                ),\n",
    "                \"2\" : CytosimAgentInfo(\n",
    "                    name=\"kinesin\",\n",
    "                    radius=0.01\n",
    "                )\n",
    "            }\n",
    "        ),\n",
    "        \"couples\" : CytosimObjectInfo(\n",
    "            filepath=\"../simulariumio/tests/data/cytosim/aster_pull3D_couples_actin_solid/couples.txt\",\n",
    "            agents={\n",
    "                \"1\" : CytosimAgentInfo(\n",
    "                    name=\"motor complex\",\n",
    "                    radius=0.02\n",
    "                )\n",
    "            },\n",
    "            position_indices=[3, 4, 5]\n",
    "        )\n",
    "    },\n",
    "    scale_factor=100.0\n",
    ")"
   ]
  },
  {
   "cell_type": "markdown",
   "metadata": {},
   "source": [
    "## Convert and save as .simularium JSON file"
   ]
  },
  {
   "cell_type": "markdown",
   "metadata": {},
   "source": [
    "Once your data is shaped like in the `example_data` object, you can use the converter to generate the file at the given path:"
   ]
  },
  {
   "cell_type": "code",
   "execution_count": 3,
   "metadata": {},
   "outputs": [],
   "source": [
    "CytosimConverter(example_data).write_JSON(\"cytosim_example\")"
   ]
  },
  {
   "cell_type": "markdown",
   "metadata": {},
   "source": [
    "## Visualize in the Simularium viewer"
   ]
  },
  {
   "cell_type": "markdown",
   "metadata": {},
   "source": [
    "In a supported web-browser (Firefox or Chrome), navigate to https://staging.simularium.allencell.org/ and import your file into the view."
   ]
  },
  {
   "cell_type": "code",
   "execution_count": null,
   "metadata": {},
   "outputs": [],
   "source": []
  }
 ],
 "metadata": {
  "kernelspec": {
   "display_name": "Python 3",
   "language": "python",
   "name": "python3"
  },
  "language_info": {
   "codemirror_mode": {
    "name": "ipython",
    "version": 3
   },
   "file_extension": ".py",
   "mimetype": "text/x-python",
   "name": "python",
   "nbconvert_exporter": "python",
   "pygments_lexer": "ipython3",
   "version": "3.8.5"
  }
 },
 "nbformat": 4,
 "nbformat_minor": 4
}
