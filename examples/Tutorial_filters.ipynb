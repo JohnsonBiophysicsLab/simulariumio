{
 "cells": [
  {
   "cell_type": "markdown",
   "metadata": {},
   "source": [
    "# Simularium Conversion Tutorial : Filtering Data"
   ]
  },
  {
   "cell_type": "code",
   "execution_count": 1,
   "metadata": {},
   "outputs": [],
   "source": [
    "from IPython.display import Image\n",
    "import numpy as np\n",
    "from simulariumio import FileConverter, CustomData, AgentData\n",
    "from simulariumio.filters.params import (\n",
    "    EveryNthTimestepFilterParams, \n",
    "    EveryNthAgentFilterParams, \n",
    "    EveryNthSubpointFilterParams,\n",
    ")"
   ]
  },
  {
   "cell_type": "markdown",
   "metadata": {},
   "source": [
    "This notebook provides example python code for filtering data from a SimulariumIO converter (e.g. to reduce the number of agents or timesteps, or to rotate the scene) before creating a .simularium JSON file which you can drag and drop onto the viewer like this:"
   ]
  },
  {
   "cell_type": "markdown",
   "metadata": {},
   "source": [
    "![title](img/drag_drop.gif)"
   ]
  },
  {
   "cell_type": "markdown",
   "metadata": {},
   "source": [
    "***\n",
    "## Apply filters and save as .simularium JSON file"
   ]
  },
  {
   "cell_type": "markdown",
   "metadata": {},
   "source": [
    "You can apply filters from any converter. For this example, we'll use a `FileConverter` to read data from a .simularium JSON file."
   ]
  },
  {
   "cell_type": "code",
   "execution_count": 2,
   "metadata": {},
   "outputs": [
    {
     "name": "stdout",
     "output_type": "stream",
     "text": [
      "Reading Simularium JSON -------------\n"
     ]
    }
   ],
   "source": [
    "c = FileConverter(\"../simulariumio/tests/data/cytosim/aster_pull3D_couples_actin_solid_3_frames\"\n",
    "                  \"/aster_pull3D_couples_actin_solid_3_frames.json\")"
   ]
  },
  {
   "cell_type": "markdown",
   "metadata": {},
   "source": [
    "To reduce the number of timesteps, agents, or subpoints, use `EveryNthTimestepFilter`, `EveryNthAgentFilter`, or `EveryNthSubpointFilter` by providing their parameters to `apply_filters()`:"
   ]
  },
  {
   "cell_type": "code",
   "execution_count": 3,
   "metadata": {},
   "outputs": [
    {
     "name": "stdout",
     "output_type": "stream",
     "text": [
      "original dim = 3 timesteps X 17 agents X 6 subpoints\n",
      "Filtering: every 2th timestep -------------\n",
      "Filtering: every Nth agent -------------\n"
     ]
    },
    {
     "ename": "ValueError",
     "evalue": "could not broadcast input array from shape (6,3) into shape (5,3)",
     "output_type": "error",
     "traceback": [
      "\u001b[0;31m---------------------------------------------------------------------------\u001b[0m",
      "\u001b[0;31mValueError\u001b[0m                                Traceback (most recent call last)",
      "\u001b[0;32m<ipython-input-3-ba4bb6436343>\u001b[0m in \u001b[0;36m<module>\u001b[0;34m\u001b[0m\n\u001b[0;32m----> 1\u001b[0;31m c.apply_filters([\n\u001b[0m\u001b[1;32m      2\u001b[0m     EveryNthTimestepFilterParams(\n\u001b[1;32m      3\u001b[0m         \u001b[0mn\u001b[0m\u001b[0;34m=\u001b[0m\u001b[0;36m2\u001b[0m\u001b[0;34m\u001b[0m\u001b[0;34m\u001b[0m\u001b[0m\n\u001b[1;32m      4\u001b[0m     ),\n\u001b[1;32m      5\u001b[0m     EveryNthAgentFilterParams(\n",
      "\u001b[0;32m~/Documents/Dev/simulariumio/simulariumio/custom_converter.py\u001b[0m in \u001b[0;36mapply_filters\u001b[0;34m(self, params)\u001b[0m\n\u001b[1;32m    429\u001b[0m                 \u001b[0mplot_data\u001b[0m \u001b[0;34m=\u001b[0m \u001b[0mfilter_class\u001b[0m\u001b[0;34m(\u001b[0m\u001b[0;34m)\u001b[0m\u001b[0;34m.\u001b[0m\u001b[0mfilter_plot_data\u001b[0m\u001b[0;34m(\u001b[0m\u001b[0mplot_data\u001b[0m\u001b[0;34m,\u001b[0m \u001b[0mparams\u001b[0m\u001b[0;34m[\u001b[0m\u001b[0mi\u001b[0m\u001b[0;34m]\u001b[0m\u001b[0;34m)\u001b[0m\u001b[0;34m\u001b[0m\u001b[0;34m\u001b[0m\u001b[0m\n\u001b[1;32m    430\u001b[0m             \u001b[0;32melse\u001b[0m\u001b[0;34m:\u001b[0m\u001b[0;34m\u001b[0m\u001b[0;34m\u001b[0m\u001b[0m\n\u001b[0;32m--> 431\u001b[0;31m                 \u001b[0magent_data\u001b[0m \u001b[0;34m=\u001b[0m \u001b[0mfilter_class\u001b[0m\u001b[0;34m(\u001b[0m\u001b[0;34m)\u001b[0m\u001b[0;34m.\u001b[0m\u001b[0mfilter_spatial_data\u001b[0m\u001b[0;34m(\u001b[0m\u001b[0magent_data\u001b[0m\u001b[0;34m,\u001b[0m \u001b[0mparams\u001b[0m\u001b[0;34m[\u001b[0m\u001b[0mi\u001b[0m\u001b[0;34m]\u001b[0m\u001b[0;34m)\u001b[0m\u001b[0;34m\u001b[0m\u001b[0;34m\u001b[0m\u001b[0m\n\u001b[0m\u001b[1;32m    432\u001b[0m         self._data = self._read_custom_data(\n\u001b[1;32m    433\u001b[0m             CustomData(\n",
      "\u001b[0;32m~/Documents/Dev/simulariumio/simulariumio/filters/every_nth_agent_filter.py\u001b[0m in \u001b[0;36mfilter_spatial_data\u001b[0;34m(self, agent_data, params)\u001b[0m\n\u001b[1;32m     64\u001b[0m                 \u001b[0mradii\u001b[0m\u001b[0;34m[\u001b[0m\u001b[0mt\u001b[0m\u001b[0;34m]\u001b[0m\u001b[0;34m[\u001b[0m\u001b[0mi\u001b[0m\u001b[0;34m]\u001b[0m \u001b[0;34m=\u001b[0m \u001b[0magent_data\u001b[0m\u001b[0;34m.\u001b[0m\u001b[0mradii\u001b[0m\u001b[0;34m[\u001b[0m\u001b[0mt\u001b[0m\u001b[0;34m]\u001b[0m\u001b[0;34m[\u001b[0m\u001b[0mn\u001b[0m\u001b[0;34m]\u001b[0m\u001b[0;34m\u001b[0m\u001b[0;34m\u001b[0m\u001b[0m\n\u001b[1;32m     65\u001b[0m                 \u001b[0mn_subpoints\u001b[0m\u001b[0;34m[\u001b[0m\u001b[0mt\u001b[0m\u001b[0;34m]\u001b[0m\u001b[0;34m[\u001b[0m\u001b[0mi\u001b[0m\u001b[0;34m]\u001b[0m \u001b[0;34m=\u001b[0m \u001b[0magent_data\u001b[0m\u001b[0;34m.\u001b[0m\u001b[0mn_subpoints\u001b[0m\u001b[0;34m[\u001b[0m\u001b[0mt\u001b[0m\u001b[0;34m]\u001b[0m\u001b[0;34m[\u001b[0m\u001b[0mn\u001b[0m\u001b[0;34m]\u001b[0m\u001b[0;34m\u001b[0m\u001b[0;34m\u001b[0m\u001b[0m\n\u001b[0;32m---> 66\u001b[0;31m                 subpoints[t][i][\n\u001b[0m\u001b[1;32m     67\u001b[0m                     \u001b[0;34m:\u001b[0m \u001b[0mnp\u001b[0m\u001b[0;34m.\u001b[0m\u001b[0mshape\u001b[0m\u001b[0;34m(\u001b[0m\u001b[0magent_data\u001b[0m\u001b[0;34m.\u001b[0m\u001b[0msubpoints\u001b[0m\u001b[0;34m[\u001b[0m\u001b[0mt\u001b[0m\u001b[0;34m]\u001b[0m\u001b[0;34m[\u001b[0m\u001b[0mn\u001b[0m\u001b[0;34m]\u001b[0m\u001b[0;34m)\u001b[0m\u001b[0;34m[\u001b[0m\u001b[0;36m0\u001b[0m\u001b[0;34m]\u001b[0m\u001b[0;34m\u001b[0m\u001b[0;34m\u001b[0m\u001b[0m\n\u001b[1;32m     68\u001b[0m                 ] = agent_data.subpoints[t][n]\n",
      "\u001b[0;31mValueError\u001b[0m: could not broadcast input array from shape (6,3) into shape (5,3)"
     ]
    }
   ],
   "source": [
    "c.apply_filters([\n",
    "    EveryNthTimestepFilterParams(\n",
    "        n=2\n",
    "    ),\n",
    "    EveryNthAgentFilterParams(\n",
    "        n_per_type_id={\n",
    "            1: 3,\n",
    "            2: 1,\n",
    "            4: 2,\n",
    "            6: 2,\n",
    "            7: 1,\n",
    "        },\n",
    "        default_n=2,\n",
    "    ),\n",
    "    EveryNthSubpointFilterParams(\n",
    "        n_per_type_id={\n",
    "            1: 3,\n",
    "        },\n",
    "        default_n=2,\n",
    "    ),\n",
    "])\n",
    "c.write_JSON(\"example_filter_reduce\")"
   ]
  },
  {
   "cell_type": "markdown",
   "metadata": {},
   "source": [
    "## Visualize in the Simularium viewer"
   ]
  },
  {
   "cell_type": "markdown",
   "metadata": {},
   "source": [
    "In a supported web-browser (Firefox or Chrome), navigate to https://simularium.allencell.org/ and import your file into the view."
   ]
  },
  {
   "cell_type": "code",
   "execution_count": null,
   "metadata": {},
   "outputs": [],
   "source": []
  }
 ],
 "metadata": {
  "kernelspec": {
   "display_name": "Python 3",
   "language": "python",
   "name": "python3"
  },
  "language_info": {
   "codemirror_mode": {
    "name": "ipython",
    "version": 3
   },
   "file_extension": ".py",
   "mimetype": "text/x-python",
   "name": "python",
   "nbconvert_exporter": "python",
   "pygments_lexer": "ipython3",
   "version": "3.8.5"
  }
 },
 "nbformat": 4,
 "nbformat_minor": 4
}
