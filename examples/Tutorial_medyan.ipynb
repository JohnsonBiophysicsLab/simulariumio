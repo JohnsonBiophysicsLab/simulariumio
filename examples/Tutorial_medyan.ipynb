{
 "cells": [
  {
   "cell_type": "markdown",
   "metadata": {},
   "source": [
    "# Simularium Conversion Tutorial : MEDYAN Data"
   ]
  },
  {
   "cell_type": "code",
   "execution_count": 1,
   "metadata": {},
   "outputs": [],
   "source": [
    "from IPython.display import Image\n",
    "import numpy as np\n",
    "from simulariumio.medyan import MedyanConverter, MedyanData, MedyanAgentInfo\n",
    "from simulariumio import MetaData\n",
    "from simulariumio.filters import TranslateFilter"
   ]
  },
  {
   "cell_type": "markdown",
   "metadata": {},
   "source": [
    "This notebook provides example python code for converting your own simulation trajectories into the format consumed by the Simularium Viewer. It creates a .simularium JSON file which you can drag and drop onto the viewer like this:"
   ]
  },
  {
   "cell_type": "markdown",
   "metadata": {},
   "source": [
    "![title](img/drag_drop.gif)"
   ]
  },
  {
   "cell_type": "markdown",
   "metadata": {},
   "source": [
    "***\n",
    "## Prepare your spatial data"
   ]
  },
  {
   "cell_type": "markdown",
   "metadata": {},
   "source": [
    "The Simularium `MedyanConverter` consumes discrete cell data from MEDYAN. \n",
    "\n",
    "The converter requires a `MedyanData` object as a parameter.\n",
    "\n",
    "`MedyanData` contains the following:\n",
    "* **meta_data** : `MetaData`\n",
    "    * An object containing metadata for the trajectory including box size, scale factor, and camera defaults        \n",
    "* **path_to_snapshot** : *string*\n",
    "    * A string path to the MEDYAN snapshot.traj output file          \n",
    "* **filament_agent_info** : *Dict\\[int, MedyanAgentInfo\\] (optional)*\n",
    "    * A dict mapping MEDYAN type ID for filaments to info (name, radius) for filament agents          \n",
    "* **linker_agent_info** : *Dict\\[int, MedyanAgentInfo\\] (optional)*\n",
    "    * A dict mapping MEDYAN type ID for linkers to info (name, radius) for linker agents          \n",
    "* **motor_agent_info** : *Dict\\[int, MedyanAgentInfo\\] (optional)*\n",
    "    * A dict mapping MEDYAN type ID for motors to info (name, radius) for motor agents          \n",
    "* **draw_fiber_points** : *bool (optional)*\n",
    "    * in addition to drawing a line for each fiber, also draw spheres at every other point along it?\n",
    "    * Default: False         \n",
    "* **plots** : *List\\[Dict\\[str, Any\\]\\] (optional)*\n",
    "    \n",
    "`MetaData` contains the following:\n",
    "* **box_size** : *np.ndarray (shape = \\[3\\])*\n",
    "    * A numpy ndarray containing the XYZ dimensions of the simulation bounding volume\n",
    "        * *for now we only support rectangular bounds, but will be adding support for spheres soon*\n",
    "* **camera_defaults**: `CameraData` (optional)\n",
    "    * camera's initial settings which it also returns to when reset\n",
    "* **scale_factor** : float (optional)\n",
    "    * A multiplier for the scene, use if visualization is too large or small\n",
    "    * Default: 1.0\n",
    "    \n",
    "`CameraData` contains the following:\n",
    "* **position** : *np.ndarray (shape = \\[3\\]) (optional)*\n",
    "    * 3D position of the camera itself\n",
    "    * Default: np.array(\\[0.0, 0.0, 120.0\\])\n",
    "* **look_at_position**: *np.ndarray (shape = \\[3\\]) (optional)*\n",
    "    * position at which the camera looks\n",
    "    * Default: np.zeros(3)\n",
    "* **up_vector**: *np.ndarray (shape = \\[3\\]) (optional)*\n",
    "    * the vector that defines which direction is \"up\" in the camera's view\n",
    "    * Default: np.array(\\[0.0, 1.0, 0.0\\])\n",
    "* **fov_degrees**: *float (optional)*\n",
    "    * the angle defining the extent of the 3D world that is seen from bottom to top of the camera view\n",
    "    * Default: 75.0"
   ]
  },
  {
   "cell_type": "code",
   "execution_count": 2,
   "metadata": {},
   "outputs": [],
   "source": [
    "box_size = 1000.0\n",
    "scale = 0.1\n",
    "\n",
    "example_data = MedyanData(\n",
    "    meta_data=MetaData(\n",
    "        box_size=np.array([box_size, box_size, box_size]),\n",
    "        scale_factor=scale,\n",
    "    ),\n",
    "    path_to_snapshot=\"../simulariumio/tests/data/medyan/snapshot.traj\",\n",
    "    filament_agent_info={\n",
    "        0: MedyanAgentInfo(\n",
    "            name=\"Filament\",\n",
    "            radius=5.0,\n",
    "        ),\n",
    "    },\n",
    "    linker_agent_info={\n",
    "        0: MedyanAgentInfo(\n",
    "            name=\"LinkerA\",\n",
    "            radius=8.0,\n",
    "        ),\n",
    "        1: MedyanAgentInfo(\n",
    "            name=\"LinkerB\",\n",
    "            radius=8.0,\n",
    "        ),\n",
    "        2: MedyanAgentInfo(\n",
    "            name=\"LinkerC\",\n",
    "            radius=8.0,\n",
    "        ),\n",
    "    },\n",
    "    motor_agent_info={\n",
    "        1: MedyanAgentInfo(\n",
    "            name=\"Motor\",\n",
    "            radius=2.0,\n",
    "            draw_endpoints=True,\n",
    "            endpoint_radius=10.0,\n",
    "        ),\n",
    "    },\n",
    ")"
   ]
  },
  {
   "cell_type": "markdown",
   "metadata": {},
   "source": [
    "## Convert and save as .simularium JSON file"
   ]
  },
  {
   "cell_type": "markdown",
   "metadata": {},
   "source": [
    "Once your data is shaped like in the `example_data` object, you can use the converter to generate the file at the given path:\n",
    "\n",
    "(since MEDYAN coordinates are all positive, use a `TranslateFilter` to center the data in the viewer.)"
   ]
  },
  {
   "cell_type": "code",
   "execution_count": 3,
   "metadata": {},
   "outputs": [
    {
     "name": "stdout",
     "output_type": "stream",
     "text": [
      "Reading MEDYAN Data -------------\n",
      "Filtering: translation -------------\n",
      "Writing JSON (external)-------------\n",
      "Converting Trajectory Data -------------\n",
      "saved to example_medyan.simularium\n"
     ]
    }
   ],
   "source": [
    "c = MedyanConverter(example_data)\n",
    "translation_magnitude = -(box_size * scale) / 2\n",
    "filtered_data = c.filter_data([\n",
    "    TranslateFilter(\n",
    "        translation_per_type_id={},\n",
    "        default_translation=translation_magnitude * np.ones(3)\n",
    "    ),\n",
    "])\n",
    "c.write_external_JSON(filtered_data, \"example_medyan\")"
   ]
  },
  {
   "cell_type": "markdown",
   "metadata": {},
   "source": [
    "## Visualize in the Simularium viewer"
   ]
  },
  {
   "cell_type": "markdown",
   "metadata": {},
   "source": [
    "In a supported web-browser (Firefox or Chrome), navigate to https://simularium.allencell.org/ and import your file into the view."
   ]
  },
  {
   "cell_type": "code",
   "execution_count": null,
   "metadata": {},
   "outputs": [],
   "source": []
  }
 ],
 "metadata": {
  "kernelspec": {
   "display_name": "Python 3",
   "language": "python",
   "name": "python3"
  },
  "language_info": {
   "codemirror_mode": {
    "name": "ipython",
    "version": 3
   },
   "file_extension": ".py",
   "mimetype": "text/x-python",
   "name": "python",
   "nbconvert_exporter": "python",
   "pygments_lexer": "ipython3",
   "version": "3.8.8"
  }
 },
 "nbformat": 4,
 "nbformat_minor": 4
}
