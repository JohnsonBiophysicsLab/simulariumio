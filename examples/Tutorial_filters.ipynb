{
 "cells": [
  {
   "cell_type": "markdown",
   "metadata": {},
   "source": [
    "# Simularium Conversion Tutorial : Filtering Data"
   ]
  },
  {
   "cell_type": "code",
   "execution_count": 1,
   "metadata": {},
   "outputs": [],
   "source": [
    "from IPython.display import Image\n",
    "import numpy as np\n",
    "from simulariumio import FileConverter, CustomData, AgentData\n",
    "from simulariumio.filters.params import EveryNthAgentFilterParams"
   ]
  },
  {
   "cell_type": "markdown",
   "metadata": {},
   "source": [
    "This notebook provides example python code for filtering data from a SimulariumIO converter (e.g. to reduce the number of agents or timesteps, or to rotate the scene) before creating a .simularium JSON file which you can drag and drop onto the viewer like this:"
   ]
  },
  {
   "cell_type": "markdown",
   "metadata": {},
   "source": [
    "![title](img/drag_drop.gif)"
   ]
  },
  {
   "cell_type": "markdown",
   "metadata": {},
   "source": [
    "***\n",
    "## Apply filters and save as .simularium JSON file"
   ]
  },
  {
   "cell_type": "markdown",
   "metadata": {},
   "source": [
    "You can apply filters from any converter. For this example, we'll use a `FileConverter` to read data from a .simularium JSON file."
   ]
  },
  {
   "cell_type": "code",
   "execution_count": 2,
   "metadata": {},
   "outputs": [
    {
     "name": "stdout",
     "output_type": "stream",
     "text": [
      "Reading Simularium JSON -------------\n"
     ]
    }
   ],
   "source": [
    "c = FileConverter(\"../simulariumio/tests/data/cytosim/aster_pull3D_couples_actin_solid_3_frames\"\n",
    "                  \"/aster_pull3D_couples_actin_solid_3_frames.json\")"
   ]
  },
  {
   "cell_type": "markdown",
   "metadata": {},
   "source": [
    "To reduce the number of timesteps, agents, or subpoints, use `EveryNthTimestepFilter`, `EveryNthAgentFilter`, or `EveryNthSubpointFilter` by providing their parameters to `apply_filters()`:"
   ]
  },
  {
   "cell_type": "code",
   "execution_count": 3,
   "metadata": {},
   "outputs": [
    {
     "name": "stdout",
     "output_type": "stream",
     "text": [
      "original dim = 3 timesteps X 17 agents X 6 subpoints\n",
      "Filtering: every Nth agent -------------\n",
      "filtered dims = 3 timesteps X 12 agents X 6 subpoint\n",
      "Reading Custom Data -------------\n",
      "Writing JSON -------------\n",
      "saved to example_filter_reduce.simularium\n"
     ]
    }
   ],
   "source": [
    "c.apply_filters([\n",
    "    EveryNthAgentFilterParams(\n",
    "        n_per_type_id={\n",
    "            1: 3,\n",
    "            2: 1,\n",
    "            4: 2,\n",
    "            6: 2,\n",
    "            7: 1,\n",
    "        },\n",
    "        default_n=2,\n",
    "    ),\n",
    "])\n",
    "c.write_JSON(\"example_filter_reduce\")"
   ]
  },
  {
   "cell_type": "markdown",
   "metadata": {},
   "source": [
    "## Visualize in the Simularium viewer"
   ]
  },
  {
   "cell_type": "markdown",
   "metadata": {},
   "source": [
    "In a supported web-browser (Firefox or Chrome), navigate to https://simularium.allencell.org/ and import your file into the view."
   ]
  },
  {
   "cell_type": "code",
   "execution_count": null,
   "metadata": {},
   "outputs": [],
   "source": []
  }
 ],
 "metadata": {
  "kernelspec": {
   "display_name": "Python 3",
   "language": "python",
   "name": "python3"
  },
  "language_info": {
   "codemirror_mode": {
    "name": "ipython",
    "version": 3
   },
   "file_extension": ".py",
   "mimetype": "text/x-python",
   "name": "python",
   "nbconvert_exporter": "python",
   "pygments_lexer": "ipython3",
   "version": "3.8.5"
  }
 },
 "nbformat": 4,
 "nbformat_minor": 4
}
