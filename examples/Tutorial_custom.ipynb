{
 "cells": [
  {
   "cell_type": "markdown",
   "metadata": {},
   "source": [
    "# Simularium Conversion Tutorial : Custom Data"
   ]
  },
  {
   "cell_type": "code",
   "execution_count": 1,
   "metadata": {},
   "outputs": [],
   "source": [
    "from IPython.display import Image\n",
    "import numpy as np\n",
    "from simulariumio import Converter"
   ]
  },
  {
   "cell_type": "markdown",
   "metadata": {},
   "source": [
    "This notebook provides example python code for converting your own simulation trajectories into the format consumed by the Simularium Viewer. It creates a .simularium JSON file which you can drag and drop onto the viewer like this:"
   ]
  },
  {
   "cell_type": "markdown",
   "metadata": {},
   "source": [
    "![title](img/drag_drop.gif)"
   ]
  },
  {
   "cell_type": "markdown",
   "metadata": {},
   "source": [
    "***\n",
    "## Prepare your spatial data"
   ]
  },
  {
   "cell_type": "markdown",
   "metadata": {},
   "source": [
    "The Simularium custom data Converter consumes spatiotemporal data from any source. It requires the following data:\n",
    "* **box_size** : *np.ndarray (shape = [3])*\n",
    "    * A numpy ndarray containing the XYZ dimensions of the simulation bounding volume\n",
    "* **times** : *np.ndarray (shape = [timesteps])*\n",
    "    * A numpy ndarray containing the elapsed simulated time at each timestep\n",
    "* **n_agents** : *np.ndarray (shape = [timesteps])*\n",
    "    * A numpy ndarray containing the number of agents that exist at each timestep\n",
    "* **viz_types** : *np.ndarray (shape = [timesteps, agents])*\n",
    "    * A numpy ndarray containing the viz type for each agent at each timestep. Current options:\n",
    "        * 1000 : default,\n",
    "        * 1001 : fiber (which will require subpoints)\n",
    "* **positions** : *np.ndarray (shape = [timesteps, agents, 3])*\n",
    "    * A numpy ndarray containing the XYZ position for each agent at each timestep\n",
    "* **types** : *List[List[str]] (list of shape [timesteps, agents])*\n",
    "    * A list containing timesteps, for each a list of the string name for the type of each agent\n",
    "* **radii** : *np.ndarray (shape = [timesteps, agents])*\n",
    "    * A numpy ndarray containing the radius for each agent at each timestep\n",
    "    \n",
    "Optionally, you can also include:\n",
    "* **n_subpoints** : *np.ndarray (shape = [timesteps, agents]) (optional)*\n",
    "    * A numpy ndarray containing the number of subpoints belonging to each agent at each timestep. Required if subpoints are provided\n",
    "* **subpoints** : *np.ndarray (shape = [timesteps, agents, subpoints, 3])*\n",
    "    * A numpy ndarray containing a list of subpoint position data for each agent at each timestep. These values are currently only used for fiber agents.\n",
    "* **plots** : *Dict[str, Any]*\n",
    "    * An object containing plot data already in Simularium format"
   ]
  },
  {
   "cell_type": "markdown",
   "metadata": {},
   "source": [
    "### Generate example data"
   ]
  },
  {
   "cell_type": "markdown",
   "metadata": {},
   "source": [
    "To demonstrate using the custom converter, we'll first generate some random example data."
   ]
  },
  {
   "cell_type": "code",
   "execution_count": 2,
   "metadata": {},
   "outputs": [],
   "source": [
    "from string import ascii_uppercase\n",
    "from random import choice\n",
    "\n",
    "# parameters\n",
    "total_steps = 5\n",
    "timestep = 0.5\n",
    "box_size = 100\n",
    "n_agents = 5\n",
    "min_radius = 5\n",
    "max_radius = 10\n",
    "agents_are_fibers = True\n",
    "points_per_fiber = 4\n",
    "\n",
    "example_data = {\n",
    "    \"box_size\" : np.array([box_size, box_size, box_size]),\n",
    "    \"times\" : timestep * np.array(list(range(total_steps))),\n",
    "    \"n_agents\" : np.array(total_steps * [n_agents]),\n",
    "    \"types\" : []\n",
    "}\n",
    "for t in range(total_steps):\n",
    "    example_data[\"types\"].append([choice(ascii_uppercase) for i in range(n_agents)])"
   ]
  },
  {
   "cell_type": "markdown",
   "metadata": {},
   "source": [
    "### Sphere visualization"
   ]
  },
  {
   "cell_type": "markdown",
   "metadata": {},
   "source": [
    "If the agents are particles to be visualized as spheres, their centroid positions can be added like this:"
   ]
  },
  {
   "cell_type": "code",
   "execution_count": 3,
   "metadata": {},
   "outputs": [],
   "source": [
    "if not agents_are_fibers:\n",
    "    example_data[\"positions\"] = np.random.uniform(size=(total_steps, n_agents, 3)) * box_size - box_size * 0.5\n",
    "    example_data[\"viz_types\"] = np.array(total_steps * [n_agents * [1000.0]]) # default viz type = 1000\n",
    "    example_data[\"radii\"] = (max_radius - min_radius) * np.random.uniform(size=(total_steps, n_agents)) + min_radius"
   ]
  },
  {
   "cell_type": "markdown",
   "metadata": {},
   "source": [
    "### Line visualization"
   ]
  },
  {
   "cell_type": "markdown",
   "metadata": {},
   "source": [
    "If the agents are fibers to be visualized as lines, the positions of points along each fiber can be added using the optional subpoints:"
   ]
  },
  {
   "cell_type": "code",
   "execution_count": 4,
   "metadata": {},
   "outputs": [],
   "source": [
    "if agents_are_fibers:\n",
    "    example_data[\"positions\"] = np.zeros(shape=(total_steps, n_agents, 3))\n",
    "    example_data[\"n_subpoints\"] = points_per_fiber * np.ones(shape=(total_steps, n_agents))\n",
    "    example_data[\"subpoints\"] = box_size * np.random.uniform(\n",
    "        size=(total_steps, n_agents, points_per_fiber, 3)) - box_size * 0.5\n",
    "    example_data[\"viz_types\"] = np.array(total_steps * [n_agents * [1001.0]]) # fiber viz type = 1001\n",
    "    example_data[\"radii\"] = np.zeros(shape=(total_steps, n_agents))"
   ]
  },
  {
   "cell_type": "markdown",
   "metadata": {},
   "source": [
    "Inspect the resulting data:"
   ]
  },
  {
   "cell_type": "code",
   "execution_count": 6,
   "metadata": {
    "scrolled": true
   },
   "outputs": [
    {
     "name": "stdout",
     "output_type": "stream",
     "text": [
      "box size = [100 100 100]\n",
      "times = [0.  0.5 1.  1.5 2. ]\n",
      "number of agents = [5 5 5 5 5]\n",
      "viz types = [[1001. 1001. 1001. 1001. 1001.]\n",
      " [1001. 1001. 1001. 1001. 1001.]\n",
      " [1001. 1001. 1001. 1001. 1001.]\n",
      " [1001. 1001. 1001. 1001. 1001.]\n",
      " [1001. 1001. 1001. 1001. 1001.]]\n",
      "positions = [[[0. 0. 0.]\n",
      "  [0. 0. 0.]\n",
      "  [0. 0. 0.]\n",
      "  [0. 0. 0.]\n",
      "  [0. 0. 0.]]\n",
      "\n",
      " [[0. 0. 0.]\n",
      "  [0. 0. 0.]\n",
      "  [0. 0. 0.]\n",
      "  [0. 0. 0.]\n",
      "  [0. 0. 0.]]\n",
      "\n",
      " [[0. 0. 0.]\n",
      "  [0. 0. 0.]\n",
      "  [0. 0. 0.]\n",
      "  [0. 0. 0.]\n",
      "  [0. 0. 0.]]\n",
      "\n",
      " [[0. 0. 0.]\n",
      "  [0. 0. 0.]\n",
      "  [0. 0. 0.]\n",
      "  [0. 0. 0.]\n",
      "  [0. 0. 0.]]\n",
      "\n",
      " [[0. 0. 0.]\n",
      "  [0. 0. 0.]\n",
      "  [0. 0. 0.]\n",
      "  [0. 0. 0.]\n",
      "  [0. 0. 0.]]]\n",
      "types = [['J', 'K', 'Q', 'W', 'O'], ['F', 'B', 'P', 'E', 'D'], ['V', 'B', 'C', 'U', 'G'], ['L', 'Y', 'J', 'X', 'Q'], ['L', 'N', 'U', 'D', 'V']]\n",
      "radii = [[0. 0. 0. 0. 0.]\n",
      " [0. 0. 0. 0. 0.]\n",
      " [0. 0. 0. 0. 0.]\n",
      " [0. 0. 0. 0. 0.]\n",
      " [0. 0. 0. 0. 0.]]\n",
      "n_subpoints = [[4. 4. 4. 4. 4.]\n",
      " [4. 4. 4. 4. 4.]\n",
      " [4. 4. 4. 4. 4.]\n",
      " [4. 4. 4. 4. 4.]\n",
      " [4. 4. 4. 4. 4.]]\n",
      "subpoints = [[[[ 13.23894823  -3.91882179  42.78077534]\n",
      "   [-33.68197902  -9.11435833 -37.1973445 ]\n",
      "   [-42.91399386  47.4451456  -42.5906772 ]\n",
      "   [ 32.90527935 -23.01223901  16.69688852]]\n",
      "\n",
      "  [[  6.6915777   42.39003556   9.37018937]\n",
      "   [-11.51352673 -24.44599717 -37.76829437]\n",
      "   [-18.04005522 -37.21508033   3.21129641]\n",
      "   [ 21.50224448  38.20917029  26.59182639]]\n",
      "\n",
      "  [[-44.10159265  14.51414818 -46.035082  ]\n",
      "   [ 35.87770441 -25.31831138  -4.05638396]\n",
      "   [ -6.3736461   16.79872397  40.981203  ]\n",
      "   [-34.10438846  32.61810157 -11.66090335]]\n",
      "\n",
      "  [[-32.37936399   2.50403629  10.81305504]\n",
      "   [-10.0637739    3.44277002 -22.60160364]\n",
      "   [ 21.11565267  -0.85598154 -25.3662774 ]\n",
      "   [-14.50989644  24.9998412  -27.19555332]]\n",
      "\n",
      "  [[-13.08526791 -35.40328555  17.52742592]\n",
      "   [ 40.87179293  -9.12313696   5.18834634]\n",
      "   [ 21.963668   -16.16548879  45.38324772]\n",
      "   [-31.06014576 -22.18192434  39.29129544]]]\n",
      "\n",
      "\n",
      " [[[-46.9430754   38.5319947  -18.05873164]\n",
      "   [  8.54228397  12.7176928   29.37193299]\n",
      "   [-14.9281185  -45.26314958 -34.89479139]\n",
      "   [-16.40339532  -1.4546273    8.43679373]]\n",
      "\n",
      "  [[ 13.16475045 -24.16613122 -33.43272276]\n",
      "   [-27.6036593   44.48413531 -38.60062041]\n",
      "   [-44.16220573  14.63409011 -19.889049  ]\n",
      "   [-26.31376821   0.13354512 -41.87160237]]\n",
      "\n",
      "  [[  0.50043456  -6.96069679   5.67655331]\n",
      "   [ 24.72056279 -17.12726291 -13.08278809]\n",
      "   [-39.47644493 -33.70875816 -46.56438571]\n",
      "   [ -1.76302392  45.90189123 -44.99266475]]\n",
      "\n",
      "  [[ 29.84722289  -4.02680694  -6.72383164]\n",
      "   [ 43.01359758  11.75966441  46.95837667]\n",
      "   [ 41.23739156  30.92336636 -47.97806364]\n",
      "   [ 23.322434    16.7353602  -17.10072572]]\n",
      "\n",
      "  [[ -4.00402358  -5.43791914   2.79384019]\n",
      "   [ -9.35543198 -20.40274478  19.61852694]\n",
      "   [-33.80596255  42.61734736   6.996833  ]\n",
      "   [ 21.98911762  15.45254785 -15.55023107]]]\n",
      "\n",
      "\n",
      " [[[-31.41031277  49.80403087 -12.55852322]\n",
      "   [-12.14049557  -5.23213924 -43.59342373]\n",
      "   [-39.30827606  40.4538401   32.31631171]\n",
      "   [ 49.2231228   23.573061    36.3115637 ]]\n",
      "\n",
      "  [[  3.23682611 -44.27592945  38.93580573]\n",
      "   [-42.44610895  34.95891545  18.07124122]\n",
      "   [-32.81312685  11.40507687  12.77179362]\n",
      "   [ 40.79619668  24.26538669 -46.59039737]]\n",
      "\n",
      "  [[  4.39960618 -40.33355493  13.70969774]\n",
      "   [ 46.76630407  38.20449588  12.09119774]\n",
      "   [-37.31873585  -0.11876244  10.91142555]\n",
      "   [-26.8249993   14.18664741  15.6120967 ]]\n",
      "\n",
      "  [[ 18.80411539   9.16588671  11.66829919]\n",
      "   [ 30.31740123 -38.89163854 -35.22866929]\n",
      "   [-35.45987015 -23.80693066 -30.70689098]\n",
      "   [ 24.38473667  40.94501448 -26.79363124]]\n",
      "\n",
      "  [[-40.79709999 -37.30249864  20.85112549]\n",
      "   [-47.75618588  -2.14688551 -10.97785983]\n",
      "   [-26.54135609 -29.25782892 -12.51549404]\n",
      "   [-42.25514977  44.91013363   9.36545163]]]\n",
      "\n",
      "\n",
      " [[[ 31.5229074  -31.90819447  -3.77269573]\n",
      "   [ 29.6420643   -2.97113206  -3.89648463]\n",
      "   [  6.35074823 -49.57011749  39.54261672]\n",
      "   [-11.03187895  11.37664004 -20.82608577]]\n",
      "\n",
      "  [[-19.42537785  41.33474216  31.81779346]\n",
      "   [ 45.86745642 -38.54262163 -45.09490592]\n",
      "   [ 37.73360851  -7.34416077 -19.19547206]\n",
      "   [ -1.31592455  -9.96505557  43.71436941]]\n",
      "\n",
      "  [[-49.96233099  43.14832971   6.61524153]\n",
      "   [ 21.4254792  -18.30739783  44.35659313]\n",
      "   [-21.10382038  40.08220662  27.4701793 ]\n",
      "   [ 45.98587246  15.3312839  -19.64320304]]\n",
      "\n",
      "  [[-11.79557089  33.708531    34.86169675]\n",
      "   [  0.12130512  18.82321454 -44.84784664]\n",
      "   [ -3.68192025  24.73991373  28.55892899]\n",
      "   [ 36.19262888  24.13495378 -24.57414164]]\n",
      "\n",
      "  [[-33.54163769  37.017426    28.99761669]\n",
      "   [-12.16096105 -32.65924929 -15.52831123]\n",
      "   [  9.14949905  40.32394791 -43.6693857 ]\n",
      "   [ 23.25608636  31.05012717  38.07607798]]]\n",
      "\n",
      "\n",
      " [[[-24.02713975 -38.40721554  39.74635114]\n",
      "   [-23.14816243  48.03346155   0.19408242]\n",
      "   [ 18.49776838 -46.44633902 -24.13227063]\n",
      "   [  0.40633    -29.18815139   8.61317658]]\n",
      "\n",
      "  [[ -6.87754476  11.44993711  40.10426828]\n",
      "   [-22.22910342  42.2016852   40.57193186]\n",
      "   [-48.98984935  14.70890055 -45.79908179]\n",
      "   [-48.25195607 -44.09682181  33.71725225]]\n",
      "\n",
      "  [[ 10.64705344 -29.3243245  -15.33218525]\n",
      "   [-46.51612364 -11.47282564  11.52312367]\n",
      "   [ 10.7267604   -6.05895543  40.02333835]\n",
      "   [  3.02848526 -17.38689286 -20.38377096]]\n",
      "\n",
      "  [[ 46.44858534  12.715253    38.5685137 ]\n",
      "   [-35.01135559  26.30959394  32.01605814]\n",
      "   [  3.61190192   5.94025908   2.98574831]\n",
      "   [  5.39473128  43.83262623  49.63451113]]\n",
      "\n",
      "  [[-31.91488737  33.66251809 -33.35865769]\n",
      "   [-41.93331768 -36.27958685  29.1880464 ]\n",
      "   [ -5.51226938 -48.66532358  -8.50445844]\n",
      "   [ -2.96713996  14.72039133 -42.20391438]]]]\n"
     ]
    }
   ],
   "source": [
    "print(\"box size = {}\".format(example_data[\"box_size\"]))\n",
    "print(\"times = {}\".format(example_data[\"times\"]))\n",
    "print(\"number of agents = {}\".format(example_data[\"n_agents\"]))\n",
    "print(\"viz types = {}\".format(example_data[\"viz_types\"]))\n",
    "print(\"positions = {}\".format(example_data[\"positions\"]))\n",
    "print(\"types = {}\".format(example_data[\"types\"]))\n",
    "print(\"radii = {}\".format(example_data[\"radii\"]))\n",
    "if agents_are_fibers:\n",
    "    print(\"n_subpoints = {}\".format(example_data[\"n_subpoints\"]))\n",
    "    print(\"subpoints = {}\".format(example_data[\"subpoints\"]))"
   ]
  },
  {
   "cell_type": "markdown",
   "metadata": {},
   "source": [
    "## Convert and save as .simularium JSON file"
   ]
  },
  {
   "cell_type": "markdown",
   "metadata": {},
   "source": [
    "Once your data is shaped like in the `example_data` object, you can use the converter to generate the file at the given path:"
   ]
  },
  {
   "cell_type": "code",
   "execution_count": 7,
   "metadata": {},
   "outputs": [],
   "source": [
    "converter = Converter(example_data)\n",
    "converter.write_JSON(\"/Users/blairl/Desktop/example\")"
   ]
  },
  {
   "cell_type": "markdown",
   "metadata": {},
   "source": [
    "***\n",
    "## Add plots"
   ]
  },
  {
   "cell_type": "markdown",
   "metadata": {},
   "source": [
    "You can optionally include metrics data, which will be graphed in plots alongside your spatial data in the Simularium viewer. For now, Simularium supports scatterplots and histograms."
   ]
  },
  {
   "cell_type": "markdown",
   "metadata": {},
   "source": [
    "### Scatterplots"
   ]
  },
  {
   "cell_type": "markdown",
   "metadata": {},
   "source": [
    "Scatterplots require the following data:\n",
    "* **title** : *str*\n",
    "    * A string display title for the plot\n",
    "* **xaxis_title** : *str*\n",
    "    * A string label (with units) for the x-axis\n",
    "* **yaxis_title** : *str*\n",
    "    * A string label (with units) for the y-axis\n",
    "* **xtrace** : *np.ndarray (shape = [x values])*\n",
    "    * A numpy ndarray of values for x, the independent variable\n",
    "* **ytraces** : *Dict[str, np.ndarray (shape = [x values])]*\n",
    "    * A dictionary with y-trace display names as keys, each mapped to a numpy ndarray of values for y, the dependent variable\n",
    "* **render_mode** : *str (optional)*\n",
    "    * A string specifying how to draw the datapoints. Options:\n",
    "        * 'markers' : draw as points\n",
    "        * 'lines' : connect points with line\n",
    "    * Default: 'markers'"
   ]
  },
  {
   "cell_type": "markdown",
   "metadata": {},
   "source": [
    "Here's some random example scatterplot data:"
   ]
  },
  {
   "cell_type": "code",
   "execution_count": 8,
   "metadata": {},
   "outputs": [],
   "source": [
    "scatter_plot = {\n",
    "    \"title\": \"Test Scatterplot 1\",\n",
    "    \"xaxis_title\": \"time (ns)\",\n",
    "    \"yaxis_title\": \"concentration (uM)\",\n",
    "    \"xtrace\": np.array(list(range(10))),\n",
    "    \"ytraces\": {\n",
    "        \"agent1\": 100 * np.random.uniform(size=(10)),\n",
    "        \"agent2\": 100 * np.random.uniform(size=(10)),\n",
    "        \"agent3\": 100 * np.random.uniform(size=(10)),\n",
    "    },\n",
    "    \"render_mode\": \"lines\"\n",
    "}"
   ]
  },
  {
   "cell_type": "code",
   "execution_count": 9,
   "metadata": {
    "scrolled": true
   },
   "outputs": [
    {
     "name": "stdout",
     "output_type": "stream",
     "text": [
      "title = Test Scatterplot 1\n",
      "xaxis_title = time (ns)\n",
      "yaxis_title = concentration (uM)\n",
      "xtrace = [0 1 2 3 4 5 6 7 8 9]\n",
      "ytraces:\n",
      "  agent1 = [97.74796118 88.80869688 16.85452287 87.09428984 70.36843988 52.13389736\n",
      " 56.33000164 90.51117137 17.02626777 25.59499449]\n",
      "  agent2 = [ 9.77939458 73.4149312  64.7861666  79.75274145 17.60309876 90.88628688\n",
      " 51.1341755  54.99764073 87.16545486 79.32302919]\n",
      "  agent2 = [18.55540136  4.90188074 38.79896887 39.45781166  8.1098909  78.96504652\n",
      " 41.45016024 82.49835386 35.60752763 25.33445869]\n",
      "render_mode = lines\n"
     ]
    }
   ],
   "source": [
    "print(\"title = {}\".format(scatter_plot[\"title\"]))\n",
    "print(\"xaxis_title = {}\".format(scatter_plot[\"xaxis_title\"]))\n",
    "print(\"yaxis_title = {}\".format(scatter_plot[\"yaxis_title\"]))\n",
    "print(\"xtrace = {}\".format(scatter_plot[\"xtrace\"]))\n",
    "print(\"ytraces:\")\n",
    "print(\"  agent1 = {}\".format(scatter_plot[\"ytraces\"][\"agent1\"]))\n",
    "print(\"  agent2 = {}\".format(scatter_plot[\"ytraces\"][\"agent2\"]))\n",
    "print(\"  agent2 = {}\".format(scatter_plot[\"ytraces\"][\"agent3\"]))\n",
    "print(\"render_mode = {}\".format(scatter_plot[\"render_mode\"]))"
   ]
  },
  {
   "cell_type": "markdown",
   "metadata": {},
   "source": [
    "To add it to the converter:"
   ]
  },
  {
   "cell_type": "code",
   "execution_count": 10,
   "metadata": {},
   "outputs": [],
   "source": [
    "converter.add_plot(scatter_plot, \"scatter\")"
   ]
  },
  {
   "cell_type": "markdown",
   "metadata": {},
   "source": [
    "### Histograms"
   ]
  },
  {
   "cell_type": "markdown",
   "metadata": {},
   "source": [
    "Histograms require the following data:\n",
    "* **title** : *str*\n",
    "    * A string display title for the plot\n",
    "* ***xaxis_title*** : *str*\n",
    "    * A string label (with units) for the x-axis\n",
    "* **traces** : *Dict[str, np.ndarray (shape = [values])]*\n",
    "    * A dictionary with trace display names as keys, each mapped to a numpy ndarray of values"
   ]
  },
  {
   "cell_type": "markdown",
   "metadata": {},
   "source": [
    "Here's some random example histogram data:"
   ]
  },
  {
   "cell_type": "code",
   "execution_count": 11,
   "metadata": {},
   "outputs": [],
   "source": [
    "histogram = {\n",
    "    \"title\": \"Test Histogram 1\",\n",
    "    \"xaxis_title\": \"angle (degrees)\",\n",
    "    \"traces\": {\n",
    "        \"crosslinked monomers\": 2 * np.random.uniform(size=(15)),\n",
    "        \"bent monomers\": 10 * np.random.uniform(size=(10)),\n",
    "    }\n",
    "}"
   ]
  },
  {
   "cell_type": "code",
   "execution_count": 12,
   "metadata": {},
   "outputs": [
    {
     "name": "stdout",
     "output_type": "stream",
     "text": [
      "title = Test Histogram 1\n",
      "xaxis_title = angle (degrees)\n",
      "traces:\n",
      "  crosslinked monomers = [0.64069672 1.06785856 1.08027018 0.82602275 0.16817762 0.15148913\n",
      " 1.6432542  1.09574196 1.62613419 1.22609412 1.65877947 0.45815282\n",
      " 1.3457433  1.75896675 1.46479959]\n",
      "  bent monomers = [8.74788534 9.12620809 8.639198   4.74547478 7.6194605  4.34426255\n",
      " 1.44001652 8.99719582 1.04405378 4.65062688]\n"
     ]
    }
   ],
   "source": [
    "print(\"title = {}\".format(histogram[\"title\"]))\n",
    "print(\"xaxis_title = {}\".format(histogram[\"xaxis_title\"]))\n",
    "print(\"traces:\")\n",
    "print(\"  crosslinked monomers = {}\".format(histogram[\"traces\"][\"crosslinked monomers\"]))\n",
    "print(\"  bent monomers = {}\".format(histogram[\"traces\"][\"bent monomers\"]))"
   ]
  },
  {
   "cell_type": "markdown",
   "metadata": {},
   "source": [
    "To add it to the converter:"
   ]
  },
  {
   "cell_type": "code",
   "execution_count": 13,
   "metadata": {},
   "outputs": [],
   "source": [
    "converter.add_plot(histogram, \"histogram\")"
   ]
  },
  {
   "cell_type": "markdown",
   "metadata": {},
   "source": [
    "### Save the data with added plots"
   ]
  },
  {
   "cell_type": "markdown",
   "metadata": {},
   "source": [
    "Once you've added your plot data, write the updated data to file:"
   ]
  },
  {
   "cell_type": "code",
   "execution_count": 14,
   "metadata": {},
   "outputs": [],
   "source": [
    "converter.write_JSON(\"/Users/blairl/Desktop/example\")"
   ]
  },
  {
   "cell_type": "markdown",
   "metadata": {},
   "source": [
    "## Visualize in the Simularium viewer"
   ]
  },
  {
   "cell_type": "markdown",
   "metadata": {},
   "source": [
    "In your browser, either Firefox or Chrome, navigate to https://staging.agentviz.allencell.org/ and drag your file onto the center viewer window. \n",
    "\n",
    "*For now you'll first have to choose an example trajectory and close the load window. Once the example trajectory loads, you can drop your own file in to replace it. We'll fix this soon :)*"
   ]
  },
  {
   "cell_type": "code",
   "execution_count": null,
   "metadata": {},
   "outputs": [],
   "source": []
  }
 ],
 "metadata": {
  "kernelspec": {
   "display_name": "Python 3",
   "language": "python",
   "name": "python3"
  },
  "language_info": {
   "codemirror_mode": {
    "name": "ipython",
    "version": 3
   },
   "file_extension": ".py",
   "mimetype": "text/x-python",
   "name": "python",
   "nbconvert_exporter": "python",
   "pygments_lexer": "ipython3",
   "version": "3.8.5"
  }
 },
 "nbformat": 4,
 "nbformat_minor": 4
}
