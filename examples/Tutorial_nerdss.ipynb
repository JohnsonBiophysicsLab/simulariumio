{
 "cells": [
  {
   "cell_type": "markdown",
   "metadata": {},
   "source": [
    "# Simularium Conversion Tutorial : NERDSS PDB Data"
   ]
  },
  {
   "cell_type": "code",
   "execution_count": 1,
   "metadata": {},
   "outputs": [],
   "source": [
    "from IPython.display import Image\n",
    "\n",
    "import numpy as np\n",
    "\n",
    "import os\n",
    "import random\n",
    "\n",
    "from simulariumio.nerdss import NerdssConverter, NerdssData\n",
    "from simulariumio import MetaData, DisplayData, DISPLAY_TYPE, CameraData, UnitData\n",
    "from simulariumio.filters import TranslateFilter\n",
    "from simulariumio.writers import JsonWriter\n",
    "from simulariumio.writers import BinaryWriter\n",
    "\n"
   ]
  },
  {
   "cell_type": "markdown",
   "metadata": {},
   "source": [
    "This notebook provides example python code for converting your own simulation trajectories into the format consumed by the Simularium Viewer. It creates a .simularium file which you can drag and drop onto the viewer like this:"
   ]
  },
  {
   "cell_type": "markdown",
   "metadata": {},
   "source": [
    "![title](img/drag_drop.gif)"
   ]
  },
  {
   "cell_type": "markdown",
   "metadata": {},
   "source": [
    "# _Note:_\n",
    "To install simulariumio with all depencies needed for PDB, use `pip install simulariumio`"
   ]
  },
  {
   "cell_type": "markdown",
   "metadata": {},
   "source": [
    "***\n",
    "## Prepare your spatial data"
   ]
  },
  {
   "cell_type": "markdown",
   "metadata": {},
   "source": [
    "The Simularium `NerdssConverter` consumes spatiotemporal data from NERDSS outputs using the MDAnalysis Python package. \n",
    "\n",
    "The converter requires a `NerdssData` object as a parameter ([see documentation](https://simularium.github.io/simulariumio/simulariumio.nerdss.html#simulariumio.nerdss.nerdss_data.NerdssData))\n",
    "\n",
    "If you'd like to specify radii or color for rendering an agent type, add a `DisplayData` object for that agent type, as shown below ([see documentation](https://simularium.github.io/simulariumio/simulariumio.data_objects.html#module-simulariumio.data_objects.display_data)).\n"
   ]
  },
  {
   "cell_type": "code",
   "execution_count": 3,
   "metadata": {},
   "outputs": [],
   "source": [
    "# Define the folder containing the PDB files\n",
    "folder_path = \"../simulariumio/tests/data/nerdss/clathrin\"\n",
    "\n",
    "# List all files in the directory\n",
    "all_files = os.listdir(folder_path)\n",
    "\n",
    "# Filter to include only .pdb files\n",
    "pdb_files = [file for file in all_files if file.endswith('.pdb')]\n",
    "\n",
    "# Check if there are any PDB files in the folder\n",
    "if not pdb_files:\n",
    "    print(\"No PDB files found in the folder.\")\n",
    "else:\n",
    "    # Choose one PDB file at random\n",
    "    chosen_file = random.choice(pdb_files)\n",
    "    chosen_file_path = os.path.join(folder_path, chosen_file)\n",
    "    \n",
    "    # Read the first few lines of the chosen PDB file\n",
    "    with open(chosen_file_path, 'r') as file:\n",
    "        first_lines = [next(file).strip() for _ in range(5)]  # Adjust the range to read more or fewer lines\n",
    "        second_line = first_lines[1].strip()  # Read the second line\n",
    "    \n",
    "    parts = second_line.split()\n",
    "    numbers = [float(parts[1]), float(parts[2]), float(parts[3])]\n",
    "    \n",
    "    # Convert the numbers into a numpy array\n",
    "    box_array = np.array(numbers)\n",
    "    \n",
    "    #print(box_array)\n"
   ]
  },
  {
   "cell_type": "code",
   "execution_count": 4,
   "metadata": {},
   "outputs": [],
   "source": [
    "example_data = NerdssData(\n",
    "    path_to_pdb_files=\"../simulariumio/tests/data/nerdss/clathrin\",\n",
    "    meta_data=MetaData(\n",
    "        box_size=box_array,\n",
    "        trajectory_title=\"Some parameter set\",\n",
    "        camera_defaults=CameraData(position=np.array([0, 0, 200]))\n",
    "    ),\n",
    "#     display_data={\n",
    "#         \"gag#COM\": DisplayData(\n",
    "#             name=\"GAG - Center of Mass\",\n",
    "#             display_type=DISPLAY_TYPE.SPHERE,\n",
    "#             color=\"#0000FF\",\n",
    "#         ),\n",
    "#         \"pol#COM\": DisplayData(\n",
    "#             name=\"POL - Center of Mass\",\n",
    "#             display_type=DISPLAY_TYPE.SPHERE,\n",
    "#             color=\"#FF00FF\",\n",
    "#         ),\n",
    "#     },\n",
    "     time_units=UnitData(\"us\", 3), #declare simulation time step in microseconds\n",
    ")"
   ]
  },
  {
   "cell_type": "markdown",
   "metadata": {},
   "source": [
    "## Convert and save as .simularium file"
   ]
  },
  {
   "cell_type": "markdown",
   "metadata": {},
   "source": [
    "Once your data is shaped like in the `example_data` object, you can use the converter to generate the file at the given path:\n",
    "\n",
    "(since this model's coordinates are all positive, use a `TranslateFilter` to center the data in the viewer.)"
   ]
  },
  {
   "cell_type": "code",
   "execution_count": 5,
   "metadata": {},
   "outputs": [
    {
     "name": "stdout",
     "output_type": "stream",
     "text": [
      "Reading PDB Data -------------\n"
     ]
    },
    {
     "name": "stderr",
     "output_type": "stream",
     "text": [
      "C:\\Users\\hassa\\anaconda3\\lib\\site-packages\\MDAnalysis\\topology\\PDBParser.py:331: UserWarning: Element information is missing, elements attribute will not be populated. If needed these can be guessed using MDAnalysis.topology.guessers.\n",
      "  warnings.warn(\"Element information is missing, elements attribute \"\n",
      "C:\\Users\\hassa\\anaconda3\\lib\\site-packages\\MDAnalysis\\topology\\guessers.py:146: UserWarning: Failed to guess the mass for the following atom types: M\n",
      "  warnings.warn(\"Failed to guess the mass for the following atom types: {}\".format(atom_type))\n",
      "C:\\Users\\hassa\\anaconda3\\lib\\site-packages\\MDAnalysis\\topology\\guessers.py:146: UserWarning: Failed to guess the mass for the following atom types: R\n",
      "  warnings.warn(\"Failed to guess the mass for the following atom types: {}\".format(atom_type))\n",
      "C:\\Users\\hassa\\anaconda3\\lib\\site-packages\\MDAnalysis\\topology\\guessers.py:146: UserWarning: Failed to guess the mass for the following atom types: T\n",
      "  warnings.warn(\"Failed to guess the mass for the following atom types: {}\".format(atom_type))\n"
     ]
    },
    {
     "name": "stdout",
     "output_type": "stream",
     "text": [
      "Filtering: translation -------------\n",
      "Converting Trajectory Data to Binary -------------\n",
      "Writing Binary -------------\n",
      "saved to example_clathrin.simularium\n"
     ]
    }
   ],
   "source": [
    "converter = NerdssConverter(example_data)\n",
    "# this _filter is just roughly centering the data in the box\n",
    "_filter = TranslateFilter(default_translation=box_array/-2)\n",
    "filtered_data = converter.filter_data([_filter])\n",
    "#JsonWriter.save(filtered_data, \"example_virus\", False)\n",
    "BinaryWriter.save(filtered_data, \"example_clathrin\", False)"
   ]
  },
  {
   "cell_type": "markdown",
   "metadata": {},
   "source": [
    "## Visualize in the Simularium viewer"
   ]
  },
  {
   "cell_type": "markdown",
   "metadata": {},
   "source": [
    "In a supported web-browser (Firefox or Chrome), navigate to https://simularium.allencell.org/ and import your file into the view."
   ]
  }
 ],
 "metadata": {
  "kernelspec": {
   "display_name": "Python 3 (ipykernel)",
   "language": "python",
   "name": "python3"
  },
  "language_info": {
   "codemirror_mode": {
    "name": "ipython",
    "version": 3
   },
   "file_extension": ".py",
   "mimetype": "text/x-python",
   "name": "python",
   "nbconvert_exporter": "python",
   "pygments_lexer": "ipython3",
   "version": "3.9.13"
  },
  "vscode": {
   "interpreter": {
    "hash": "31f2aee4e71d21fbe5cf8b01ff0e069b9275f58929596ceb00d14d90e3e16cd6"
   }
  }
 },
 "nbformat": 4,
 "nbformat_minor": 4
}
