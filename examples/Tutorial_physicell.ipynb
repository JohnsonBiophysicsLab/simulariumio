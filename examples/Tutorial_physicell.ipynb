{
 "cells": [
  {
   "cell_type": "markdown",
   "metadata": {},
   "source": [
    "# Simularium Conversion Tutorial : PhysiCell Data"
   ]
  },
  {
   "cell_type": "code",
   "execution_count": 1,
   "metadata": {},
   "outputs": [],
   "source": [
    "from IPython.display import Image\n",
    "import numpy as np\n",
    "from simulariumio.physicell import PhysicellConverter, PhysicellData"
   ]
  },
  {
   "cell_type": "markdown",
   "metadata": {},
   "source": [
    "This notebook provides example python code for converting your own simulation trajectories into the format consumed by the Simularium Viewer. It creates a .simularium JSON file which you can drag and drop onto the viewer like this:"
   ]
  },
  {
   "cell_type": "markdown",
   "metadata": {},
   "source": [
    "![title](img/drag_drop.gif)"
   ]
  },
  {
   "cell_type": "markdown",
   "metadata": {},
   "source": [
    "***\n",
    "## Prepare your spatial data"
   ]
  },
  {
   "cell_type": "markdown",
   "metadata": {},
   "source": [
    "The Simularium `PhysicellConverter` consumes discrete cell data from PhysiCell. \n",
    "\n",
    "The converter requires a `PhysicellData` object as a parameter.\n",
    "\n",
    "`PhysicellData` contains the following:          \n",
    "* **box_size** : *np.ndarray (shape = \\[3\\])*\n",
    "    * A numpy ndarray containing the XYZ dimensions of the simulation bounding volume          \n",
    "* **timestep** : *float*\n",
    "    * A float amount of time in seconds that passes each step\n",
    "    * Default: 0.0          \n",
    "* **path_to_output_dir** : *string*\n",
    "    * A string path to the PhysiCell output directory containing MultiCellDS XML and MATLAB files          \n",
    "* **types** : *Dict\\[int, Dict\\[Any, str\\]\\] (optional)*\n",
    "    * \\[cell type ID from PhysiCell data\\] : Dict\\[Any, str\\]\n",
    "        * the cell type ID from PhysiCell data mapped to display name for that type, and display names for phases of that type\n",
    "            * \"name\" or \\[cell phase ID from PhysiCell data\\] : str\n",
    "                * \"name\" or the cell phase ID from PhysiCell data mapped to the display names\n",
    "                * Default: \"cell\\[cell type ID from PhysiCell data\\]#phase\\[cell phase ID from PhysiCell data\\]\"          \n",
    "* **scale_factor** : *float (optional)*\n",
    "    * A multiplier for the ReaDDy scene, use if visualization is too large or small\n",
    "    * Default: 1.0          \n",
    "* **plots** : *List[Dict[str, Any]] (optional)*\n",
    "    * An object containing plot data already in Simularium format"
   ]
  },
  {
   "cell_type": "code",
   "execution_count": 2,
   "metadata": {},
   "outputs": [],
   "source": [
    "box_size = 1000.0\n",
    "\n",
    "example_data = PhysicellData(\n",
    "    box_size=np.array([box_size, box_size, 100.0]),\n",
    "    timestep=360.0,  # seconds\n",
    "    path_to_output_dir=\"../simulariumio/tests/data/physicell/output/\",\n",
    "    types={\n",
    "        0 : {\n",
    "            \"name\" : \"tumor cell\",\n",
    "            4 : \"G0G1\",\n",
    "        },\n",
    "        1 : {\n",
    "            \"name\" : \"motile tumor cell\",\n",
    "            4 : \"G0G1\",\n",
    "        }\n",
    "    },\n",
    "    scale_factor=0.01,\n",
    ")"
   ]
  },
  {
   "cell_type": "markdown",
   "metadata": {},
   "source": [
    "## Convert and save as .simularium JSON file"
   ]
  },
  {
   "cell_type": "markdown",
   "metadata": {},
   "source": [
    "Once your data is shaped like in the `example_data` object, you can use the converter to generate the file at the given path:"
   ]
  },
  {
   "cell_type": "code",
   "execution_count": 3,
   "metadata": {},
   "outputs": [
    {
     "name": "stdout",
     "output_type": "stream",
     "text": [
      "Reading ../simulariumio/tests/data/physicell/output/output00000000.xml\n",
      "Reading ../simulariumio/tests/data/physicell/output/output00000000_cells_physicell.mat\n",
      "Reading ../simulariumio/tests/data/physicell/output/output00000001.xml\n",
      "Reading ../simulariumio/tests/data/physicell/output/output00000001_cells_physicell.mat\n",
      "Reading ../simulariumio/tests/data/physicell/output/output00000002.xml\n",
      "Reading ../simulariumio/tests/data/physicell/output/output00000002_cells_physicell.mat\n"
     ]
    }
   ],
   "source": [
    "PhysicellConverter(example_data).write_JSON(\"physicell_example\")"
   ]
  },
  {
   "cell_type": "markdown",
   "metadata": {},
   "source": [
    "## Visualize in the Simularium viewer"
   ]
  },
  {
   "cell_type": "markdown",
   "metadata": {},
   "source": [
    "In a supported web-browser (Firefox or Chrome), navigate to https://staging.simularium.allencell.org/ and import your file into the view."
   ]
  },
  {
   "cell_type": "code",
   "execution_count": null,
   "metadata": {},
   "outputs": [],
   "source": []
  }
 ],
 "metadata": {
  "kernelspec": {
   "display_name": "Python 3",
   "language": "python",
   "name": "python3"
  },
  "language_info": {
   "codemirror_mode": {
    "name": "ipython",
    "version": 3
   },
   "file_extension": ".py",
   "mimetype": "text/x-python",
   "name": "python",
   "nbconvert_exporter": "python",
   "pygments_lexer": "ipython3",
   "version": "3.8.5"
  }
 },
 "nbformat": 4,
 "nbformat_minor": 4
}
