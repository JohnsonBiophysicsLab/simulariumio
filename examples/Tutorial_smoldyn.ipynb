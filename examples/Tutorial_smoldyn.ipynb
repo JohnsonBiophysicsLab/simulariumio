{
 "cells": [
  {
   "cell_type": "markdown",
   "metadata": {},
   "source": [
    "# Simularium Conversion Tutorial : Smoldyn Data"
   ]
  },
  {
   "cell_type": "code",
   "execution_count": 1,
   "metadata": {},
   "outputs": [],
   "source": [
    "from IPython.display import Image\n",
    "import numpy as np\n",
    "from simulariumio.smoldyn import SmoldynConverter, SmoldynData\n",
    "from simulariumio import UnitData, MetaData\n",
    "from simulariumio.filters import TranslateFilter"
   ]
  },
  {
   "cell_type": "markdown",
   "metadata": {},
   "source": [
    "This notebook provides example python code for converting your own simulation trajectories into the format consumed by the Simularium Viewer. It creates a .simularium JSON file which you can drag and drop onto the viewer like this:"
   ]
  },
  {
   "cell_type": "markdown",
   "metadata": {},
   "source": [
    "![title](img/drag_drop.gif)"
   ]
  },
  {
   "cell_type": "markdown",
   "metadata": {},
   "source": [
    "***\n",
    "## Prepare your spatial data"
   ]
  },
  {
   "cell_type": "markdown",
   "metadata": {},
   "source": [
    "The Simularium `SmoldynConverter` consumes spatiotemporal data from Smoldyn. \n",
    "\n",
    "The converter requires a `SmoldynData` object as a parameter.\n",
    "\n",
    "`SmoldynData` contains the following:\n",
    "* **meta_data** : `MetaData`\n",
    "    * An object containing metadata for the trajectory including box size, scale factor, and camera defaults  \n",
    "* **path_to_output_txt** : *str*\n",
    "    * A string path to the output txt file\n",
    "    * Generate by adding to your config.txt file:\n",
    "        `output_files output.txt\n",
    "        cmd n 1 executiontime output.txt\n",
    "        cmd n 1 listmols output.txt`          \n",
    "* **radii** : *Dict\\[str, float\\] (optional)*\n",
    "    * A mapping of type names to the radii with which to draw them\n",
    "    * Default: 1.0 (for any type name not specified)\n",
    "* **display_names** : *Dict\\[str, str\\] (optional)*\n",
    "    * A mapping from original species names to names to display in the Simularium Viewer\n",
    "    * Default: use original names\n",
    "* **time_units:** `UnitData` *(optional)*\n",
    "    * multiplier and unit name for time values\n",
    "    * Default: 1.0 second            \n",
    "* **spatial_units**: `UnitData` *(optional)*\n",
    "    * multiplier and unit name for spatial values (including positions, radii, and box size)\n",
    "    * Default: 1.0 meter           \n",
    "* **plots** : *List\\[Dict\\[str, Any\\]\\] (optional)*\n",
    "    * An object containing plot data already in Simularium format\n",
    "    \n",
    "`MetaData` contains the following:\n",
    "* **box_size** : *np.ndarray (shape = \\[3\\])*\n",
    "    * A numpy ndarray containing the XYZ dimensions of the simulation bounding volume\n",
    "        * *for now we only support rectangular bounds, but will be adding support for spheres soon*\n",
    "* **camera_defaults**: `CameraData` (optional)\n",
    "    * camera's initial settings which it also returns to when reset\n",
    "* **scale_factor** : float (optional)\n",
    "    * A multiplier for the scene, use if visualization is too large or small\n",
    "    * Default: 1.0\n",
    "    \n",
    "`CameraData` contains the following:\n",
    "* **position** : *np.ndarray (shape = \\[3\\]) (optional)*\n",
    "    * 3D position of the camera itself\n",
    "    * Default: np.array(\\[0.0, 0.0, 120.0\\])\n",
    "* **look_at_position**: *np.ndarray (shape = \\[3\\]) (optional)*\n",
    "    * position at which the camera looks\n",
    "    * Default: np.zeros(3)\n",
    "* **up_vector**: *np.ndarray (shape = \\[3\\]) (optional)*\n",
    "    * the vector that defines which direction is \"up\" in the camera's view\n",
    "    * Default: np.array(\\[0.0, 1.0, 0.0\\])\n",
    "* **fov_degrees**: *float (optional)*\n",
    "    * the angle defining the extent of the 3D world that is seen from bottom to top of the camera view\n",
    "    * Default: 50.0\n",
    "\n",
    "`UnitData` contains the following:\n",
    "* **name**: *str*\n",
    "    * unit name for values (we support this list https://github.com/hgrecco/pint/blob/master/pint/default_en.txt)\n",
    "* **magnitude**: *float (optional)*\n",
    "    * multiplier for values (in case they are not given in whole units)\n",
    "    * Default: 1.0"
   ]
  },
  {
   "cell_type": "code",
   "execution_count": 2,
   "metadata": {},
   "outputs": [],
   "source": [
    "box_size = 100.\n",
    "\n",
    "example_data = SmoldynData(\n",
    "    meta_data=MetaData(\n",
    "        box_size=np.array([box_size, box_size, box_size]),\n",
    "    ),\n",
    "    path_to_output_txt=\"../simulariumio/tests/data/smoldyn/example_3D.txt\",\n",
    "    radii={\n",
    "        \"red(solution)\" : 1.0,\n",
    "        \"green(solution)\" : 2.0,\n",
    "    },\n",
    "    display_names={\n",
    "        \"red(solution)\" : \"B\",\n",
    "        \"green(solution)\" : \"A\",\n",
    "    },\n",
    "    time_units=UnitData(\"ns\"),  # nanoseconds\n",
    "    spatial_units=UnitData(\"nm\"),  # nanometers\n",
    ")"
   ]
  },
  {
   "cell_type": "markdown",
   "metadata": {},
   "source": [
    "## Convert and save as .simularium JSON file"
   ]
  },
  {
   "cell_type": "markdown",
   "metadata": {},
   "source": [
    "Once your data is shaped like in the `example_data` object, you can use the converter to generate the file at the given path:\n",
    "\n",
    "(since this model's coordinates are all positive, use a `TranslateFilter` to center the data in the viewer.)"
   ]
  },
  {
   "cell_type": "code",
   "execution_count": 3,
   "metadata": {},
   "outputs": [
    {
     "name": "stdout",
     "output_type": "stream",
     "text": [
      "Reading Smoldyn Data -------------\n",
      "Filtering: translation -------------\n",
      "Writing JSON (external)-------------\n",
      "Converting Trajectory Data -------------\n",
      "saved to example_smoldyn.simularium\n"
     ]
    }
   ],
   "source": [
    "c = SmoldynConverter(example_data)\n",
    "translation_magnitude = -box_size / 2\n",
    "filtered_data = c.filter_data([\n",
    "    TranslateFilter(\n",
    "        translation_per_type_id={},\n",
    "        default_translation=translation_magnitude * np.ones(3)\n",
    "    ),\n",
    "])\n",
    "c.write_external_JSON(filtered_data, \"example_smoldyn\")"
   ]
  },
  {
   "cell_type": "markdown",
   "metadata": {},
   "source": [
    "## Visualize in the Simularium viewer"
   ]
  },
  {
   "cell_type": "markdown",
   "metadata": {},
   "source": [
    "In a supported web-browser (Firefox or Chrome), navigate to https://simularium.allencell.org/ and import your file into the view."
   ]
  },
  {
   "cell_type": "code",
   "execution_count": null,
   "metadata": {},
   "outputs": [],
   "source": []
  }
 ],
 "metadata": {
  "kernelspec": {
   "display_name": "Python 3",
   "language": "python",
   "name": "python3"
  },
  "language_info": {
   "codemirror_mode": {
    "name": "ipython",
    "version": 3
   },
   "file_extension": ".py",
   "mimetype": "text/x-python",
   "name": "python",
   "nbconvert_exporter": "python",
   "pygments_lexer": "ipython3",
   "version": "3.8.8"
  }
 },
 "nbformat": 4,
 "nbformat_minor": 4
}
