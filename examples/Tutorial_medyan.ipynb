{
 "cells": [
  {
   "cell_type": "markdown",
   "metadata": {},
   "source": [
    "# Simularium Conversion Tutorial : MEDYAN Data"
   ]
  },
  {
   "cell_type": "code",
   "execution_count": 1,
   "metadata": {},
   "outputs": [],
   "source": [
    "from IPython.display import Image\n",
    "import numpy as np\n",
    "from simulariumio.medyan import MedyanConverter, MedyanData, MedyanAgentInfo"
   ]
  },
  {
   "cell_type": "markdown",
   "metadata": {},
   "source": [
    "This notebook provides example python code for converting your own simulation trajectories into the format consumed by the Simularium Viewer. It creates a .simularium JSON file which you can drag and drop onto the viewer like this:"
   ]
  },
  {
   "cell_type": "markdown",
   "metadata": {},
   "source": [
    "![title](img/drag_drop.gif)"
   ]
  },
  {
   "cell_type": "markdown",
   "metadata": {},
   "source": [
    "***\n",
    "## Prepare your spatial data"
   ]
  },
  {
   "cell_type": "markdown",
   "metadata": {},
   "source": [
    "The Simularium `MedyanConverter` consumes discrete cell data from MEDYAN. \n",
    "\n",
    "The converter requires a `MedyanData` object as a parameter.\n",
    "\n",
    "`MedyanData` contains the following:          \n",
    "* **box_size** : *np.ndarray (shape = \\[3\\])*\n",
    "    * A numpy ndarray containing the XYZ dimensions of the cubic simulation bounding volume          \n",
    "* **path_to_snapshot** : *string*\n",
    "    * A string path to the MEDYAN snapshot.traj output file          \n",
    "* **filament_agent_info** : *Dict\\[int, MedyanAgentInfo\\] (optional)*\n",
    "    * A dict mapping MEDYAN type ID for filaments to info (name, radius) for filament agents          \n",
    "* **linker_agent_info** : *Dict\\[int, MedyanAgentInfo\\] (optional)*\n",
    "    * A dict mapping MEDYAN type ID for linkers to info (name, radius) for linker agents          \n",
    "* **motor_agent_info** : *Dict\\[int, MedyanAgentInfo\\] (optional)*\n",
    "    * A dict mapping MEDYAN type ID for motors to info (name, radius) for motor agents          \n",
    "* **draw_fiber_points** : *bool (optional)*\n",
    "    * in addition to drawing a line for each fiber, also draw spheres at every other point along it?\n",
    "    * Default: False\n",
    "* **scale_factor** : *float (optional)*\n",
    "    * A multiplier for the MEDYAN scene, use if visualization is too large or small\n",
    "    * Default: 1.0          \n",
    "* **plots** : *List\\[Dict\\[str, Any\\]\\] (optional)*\n",
    "    * An object containing plot data already in Simularium format"
   ]
  },
  {
   "cell_type": "code",
   "execution_count": 2,
   "metadata": {},
   "outputs": [],
   "source": [
    "box_size = 1000.0\n",
    "\n",
    "example_data = MedyanData(\n",
    "    box_size=np.array([1000.0, 1000.0, 500.0]),\n",
    "    path_to_snapshot=\"../simulariumio/tests/data/medyan/snapshot.traj\",\n",
    "    filament_agent_info={\n",
    "        0: MedyanAgentInfo(\n",
    "            name=\"Actin\",\n",
    "            radius=1.0,\n",
    "        ),\n",
    "    },\n",
    "    linker_agent_info={\n",
    "        0: MedyanAgentInfo(\n",
    "            name=\"XlinkA\",\n",
    "            radius=1.0,\n",
    "        ),\n",
    "        1: MedyanAgentInfo(\n",
    "            name=\"XlinkB\",\n",
    "            radius=1.0,\n",
    "        ),\n",
    "        2: MedyanAgentInfo(\n",
    "            name=\"XlinkC\",\n",
    "            radius=1.0,\n",
    "        ),\n",
    "    },\n",
    "    motor_agent_info={\n",
    "        1: MedyanAgentInfo(\n",
    "            name=\"Motor\",\n",
    "            radius=2.0,\n",
    "        ),\n",
    "    }\n",
    ")"
   ]
  },
  {
   "cell_type": "markdown",
   "metadata": {},
   "source": [
    "## Convert and save as .simularium JSON file"
   ]
  },
  {
   "cell_type": "markdown",
   "metadata": {},
   "source": [
    "Once your data is shaped like in the `example_data` object, you can use the converter to generate the file at the given path:"
   ]
  },
  {
   "cell_type": "code",
   "execution_count": 3,
   "metadata": {},
   "outputs": [
    {
     "name": "stdout",
     "output_type": "stream",
     "text": [
      "Reading MEDYAN Data -------------\n",
      "Writing JSON -------------\n",
      "saved to medyan_example.simularium\n"
     ]
    }
   ],
   "source": [
    "MedyanConverter(example_data).write_JSON(\"medyan_example\")"
   ]
  },
  {
   "cell_type": "markdown",
   "metadata": {},
   "source": [
    "## Visualize in the Simularium viewer"
   ]
  },
  {
   "cell_type": "markdown",
   "metadata": {},
   "source": [
    "In a supported web-browser (Firefox or Chrome), navigate to https://simularium.allencell.org/ and import your file into the view."
   ]
  },
  {
   "cell_type": "code",
   "execution_count": null,
   "metadata": {},
   "outputs": [],
   "source": []
  }
 ],
 "metadata": {
  "kernelspec": {
   "display_name": "Python 3",
   "language": "python",
   "name": "python3"
  },
  "language_info": {
   "codemirror_mode": {
    "name": "ipython",
    "version": 3
   },
   "file_extension": ".py",
   "mimetype": "text/x-python",
   "name": "python",
   "nbconvert_exporter": "python",
   "pygments_lexer": "ipython3",
   "version": "3.8.5"
  }
 },
 "nbformat": 4,
 "nbformat_minor": 4
}
