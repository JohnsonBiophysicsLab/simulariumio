{
 "cells": [
  {
   "cell_type": "markdown",
   "metadata": {},
   "source": [
    "# Simularium Conversion Tutorial : SpringSaLaD Data"
   ]
  },
  {
   "cell_type": "code",
   "execution_count": 1,
   "metadata": {},
   "outputs": [],
   "source": [
    "from IPython.display import Image\n",
    "from simulariumio.springsalad import SpringsaladConverter, SpringsaladData"
   ]
  },
  {
   "cell_type": "markdown",
   "metadata": {},
   "source": [
    "This notebook provides example python code for converting your own simulation trajectories into the format consumed by the Simularium Viewer. It creates a .simularium JSON file which you can drag and drop onto the viewer like this:"
   ]
  },
  {
   "cell_type": "markdown",
   "metadata": {},
   "source": [
    "![title](img/drag_drop.gif)"
   ]
  },
  {
   "cell_type": "markdown",
   "metadata": {},
   "source": [
    "***\n",
    "## Prepare your spatial data"
   ]
  },
  {
   "cell_type": "markdown",
   "metadata": {},
   "source": [
    "The Simularium `SpringsaladConverter` consumes spatiotemporal data from SpringSaLaD. \n",
    "\n",
    "The converter requires a `SpringsaladData` object as a parameter.\n",
    "\n",
    "`SpringsaladData` contains the following:          \n",
    "* **path_to_sim_view_txt** : *str*\n",
    "    * A string path to the txt file named \"\\[model name\\]_SIM_VIEW_\\[run name\\].txt\"          \n",
    "* **display_names** : *Dict\\[str, str\\] (optional)*\n",
    "    * A mapping from molecule names in the sim view txt file to names to display in the Simularium Viewer\n",
    "    * Default: use names from sim view txt file\n",
    "* **camera_defaults** : `CameraData` *(optional)*\n",
    "    * camera's initial settings which it also returns to when reset    \n",
    "* **scale_factor** : *float (optional)*\n",
    "    * A multiplier for the scene, use if visualization is too large or small\n",
    "    * Default: 1.0          \n",
    "* **plots** : *List\\[Dict\\[str, Any\\]\\] (optional)*\n",
    "    * An object containing plot data already in Simularium format\n",
    "    \n",
    "`CameraData` contains the following:\n",
    "* **position** : *np.ndarray (shape = \\[3\\]) (optional)*\n",
    "    * 3D position of the camera itself\n",
    "    * Default: np.array(\\[0.0, 0.0, 120.0\\])\n",
    "* **look_at_position**: *np.ndarray (shape = \\[3\\]) (optional)*\n",
    "    * position at which the camera looks\n",
    "    * Default: np.zeros(3)\n",
    "* **up_vector**: *np.ndarray (shape = \\[3\\]) (optional)*\n",
    "    * the vector that defines which direction is \"up\" in the camera's view\n",
    "    * Default: np.array(\\[0.0, 1.0, 0.0\\])\n",
    "* **fov_degrees**: *float (optional)*\n",
    "    * the angle defining the extent of the 3D world that is seen from bottom to top of the camera view\n",
    "    * Default: 75.0"
   ]
  },
  {
   "cell_type": "code",
   "execution_count": 2,
   "metadata": {},
   "outputs": [],
   "source": [
    "example_data = SpringsaladData(\n",
    "    path_to_sim_view_txt=\"../simulariumio/tests/data/springsalad/Simulation0_SIM_VIEW_Run0.txt\",\n",
    "    display_names={\n",
    "        \"GREEN\" : \"Ligand\",\n",
    "        \"RED\" : \"Receptor Kinase#B site\",\n",
    "        \"GRAY\" : \"Receptor Kinase\",\n",
    "        \"CYAN\" : \"Receptor Kinase#K site\",\n",
    "        \"BLUE\" : \"Substrate\",\n",
    "    },\n",
    ")"
   ]
  },
  {
   "cell_type": "markdown",
   "metadata": {},
   "source": [
    "## Convert and save as .simularium JSON file"
   ]
  },
  {
   "cell_type": "markdown",
   "metadata": {},
   "source": [
    "Once your data is shaped like in the `example_data` object, you can use the converter to generate the file at the given path:"
   ]
  },
  {
   "cell_type": "code",
   "execution_count": 3,
   "metadata": {},
   "outputs": [
    {
     "name": "stdout",
     "output_type": "stream",
     "text": [
      "Reading SpringSaLaD Data -------------\n",
      "Writing JSON -------------\n",
      "Converting Trajectory Data -------------\n",
      "saved to example_springsalad.simularium\n"
     ]
    }
   ],
   "source": [
    "SpringsaladConverter(example_data).write_JSON(\"example_springsalad\")"
   ]
  },
  {
   "cell_type": "markdown",
   "metadata": {},
   "source": [
    "## Visualize in the Simularium viewer"
   ]
  },
  {
   "cell_type": "markdown",
   "metadata": {},
   "source": [
    "In a supported web-browser (Firefox or Chrome), navigate to https://simularium.allencell.org/ and import your file into the view."
   ]
  },
  {
   "cell_type": "code",
   "execution_count": null,
   "metadata": {},
   "outputs": [],
   "source": []
  }
 ],
 "metadata": {
  "kernelspec": {
   "display_name": "Python 3",
   "language": "python",
   "name": "python3"
  },
  "language_info": {
   "codemirror_mode": {
    "name": "ipython",
    "version": 3
   },
   "file_extension": ".py",
   "mimetype": "text/x-python",
   "name": "python",
   "nbconvert_exporter": "python",
   "pygments_lexer": "ipython3",
   "version": "3.8.8"
  }
 },
 "nbformat": 4,
 "nbformat_minor": 4
}
