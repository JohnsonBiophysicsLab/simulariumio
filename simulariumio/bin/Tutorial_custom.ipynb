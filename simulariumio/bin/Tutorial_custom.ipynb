{
 "cells": [
  {
   "cell_type": "markdown",
   "metadata": {},
   "source": [
    "# Simularium Conversion Tutorial : Custom Data"
   ]
  },
  {
   "cell_type": "code",
   "execution_count": 1,
   "metadata": {},
   "outputs": [],
   "source": [
    "from IPython.display import Image\n",
    "import numpy as np\n",
    "from simulariumio import Converter"
   ]
  },
  {
   "cell_type": "markdown",
   "metadata": {},
   "source": [
    "This notebook provides example python code for converting your own simulation trajectories into the format consumed by the Simularium Viewer. It creates a .simularium JSON file which you can drag and drop onto the viewer like this:"
   ]
  },
  {
   "cell_type": "markdown",
   "metadata": {},
   "source": [
    "![title](img/drag_drop.gif)"
   ]
  },
  {
   "cell_type": "markdown",
   "metadata": {},
   "source": [
    "***\n",
    "## Shape your data"
   ]
  },
  {
   "cell_type": "markdown",
   "metadata": {},
   "source": [
    "The Simularium custom data Converter consumes spatiotemporal data from any source. It requires the following data:\n",
    "* **box_size** : *np.ndarray (shape = [3])*\n",
    "    * A numpy ndarray containing the XYZ dimensions of the simulation bounding volume\n",
    "* **times** : *np.ndarray (shape = [timesteps])*\n",
    "    * A numpy ndarray containing the elapsed simulated time at each timestep\n",
    "* **n_agents** : *np.ndarray (shape = [timesteps])*\n",
    "    * A numpy ndarray containing the number of agents that exist at each timestep\n",
    "* **viz_types** : *np.ndarray (shape = [timesteps, agents])*\n",
    "    * A numpy ndarray containing the viz type for each agent at each timestep. Current options:\n",
    "        * 1000 : default,\n",
    "        * 1001 : fiber (which will require subpoints)\n",
    "* **positions** : *np.ndarray (shape = [timesteps, agents, 3])*\n",
    "    * A numpy ndarray containing the XYZ position for each agent at each timestep\n",
    "* **types** : *List[List[str]] (list of shape [timesteps, agents])*\n",
    "    * A list containing timesteps, for each a list of the string name for the type of each agent\n",
    "* **radii** : *np.ndarray (shape = [timesteps, agents])*\n",
    "    * A numpy ndarray containing the radius for each agent at each timestep\n",
    "    \n",
    "Optionally, you can also include:\n",
    "* **subpoints** : *np.ndarray (shape = [timesteps, agents, subpoints, 3])*\n",
    "    * A numpy ndarray containing a list of subpoint position data for each agent at each timestep. These values are currently only used for fiber agents.\n",
    "* **plots** : *Dict[str, Any]*\n",
    "    * An object containing plot data already in Simularium format"
   ]
  },
  {
   "cell_type": "markdown",
   "metadata": {},
   "source": [
    "### Generate example data"
   ]
  },
  {
   "cell_type": "markdown",
   "metadata": {},
   "source": [
    "To demonstrate using the custom converter, we'll first generate some random example data."
   ]
  },
  {
   "cell_type": "code",
   "execution_count": 2,
   "metadata": {},
   "outputs": [],
   "source": [
    "from string import ascii_uppercase\n",
    "from random import choice\n",
    "\n",
    "# parameters\n",
    "total_steps = 5\n",
    "timestep = 0.5\n",
    "box_size = 100\n",
    "n_agents = 5\n",
    "min_radius = 5\n",
    "max_radius = 10\n",
    "agents_are_fibers = False\n",
    "points_per_fiber = 4\n",
    "\n",
    "example_data = {\n",
    "    \"box_size\" : np.array([box_size, box_size, box_size]),\n",
    "    \"times\" : timestep * np.array(list(range(total_steps))),\n",
    "    \"n_agents\" : np.array(total_steps * [n_agents]),\n",
    "    \"types\" : []\n",
    "}\n",
    "for t in range(total_steps):\n",
    "    example_data[\"types\"].append([choice(ascii_uppercase) for i in range(n_agents)])"
   ]
  },
  {
   "cell_type": "markdown",
   "metadata": {},
   "source": [
    "### Sphere visualization"
   ]
  },
  {
   "cell_type": "markdown",
   "metadata": {},
   "source": [
    "If the agents are particles to be visualized as spheres, their centroid positions can be added like this:"
   ]
  },
  {
   "cell_type": "code",
   "execution_count": 3,
   "metadata": {},
   "outputs": [],
   "source": [
    "if not agents_are_fibers:\n",
    "    example_data[\"positions\"] = np.random.uniform(size=(total_steps, n_agents, 3)) * box_size - box_size * 0.5\n",
    "    example_data[\"viz_types\"] = np.array(total_steps * [n_agents * [1000.0]]) # default viz type = 1000\n",
    "    example_data[\"radii\"] = (max_radius - min_radius) * np.random.uniform(size=(total_steps, n_agents)) + min_radius"
   ]
  },
  {
   "cell_type": "markdown",
   "metadata": {},
   "source": [
    "### Line visualization"
   ]
  },
  {
   "cell_type": "markdown",
   "metadata": {},
   "source": [
    "If the agents are fibers to be visualized as lines, the positions of points along each fiber can be added using the optional subpoints:"
   ]
  },
  {
   "cell_type": "code",
   "execution_count": 4,
   "metadata": {},
   "outputs": [],
   "source": [
    "if agents_are_fibers:\n",
    "    example_data[\"positions\"] = np.zeros(shape=(total_steps, n_agents, 3))\n",
    "    example_data[\"subpoints\"] = box_size * np.random.uniform(\n",
    "        size=(total_steps, n_agents, points_per_fiber, 3)) - box_size * 0.5\n",
    "    example_data[\"viz_types\"] = np.array(total_steps * [n_agents * [1001.0]]) # fiber viz type = 1001\n",
    "    example_data[\"radii\"] = np.zeros(shape=(total_steps, n_agents))"
   ]
  },
  {
   "cell_type": "markdown",
   "metadata": {},
   "source": [
    "Inspect the resulting data:"
   ]
  },
  {
   "cell_type": "code",
   "execution_count": 5,
   "metadata": {
    "scrolled": true
   },
   "outputs": [
    {
     "name": "stdout",
     "output_type": "stream",
     "text": [
      "box size = [100 100 100]\n",
      "times = [0.  0.5 1.  1.5 2. ]\n",
      "number of agents = [5 5 5 5 5]\n",
      "viz types = [[1000. 1000. 1000. 1000. 1000.]\n",
      " [1000. 1000. 1000. 1000. 1000.]\n",
      " [1000. 1000. 1000. 1000. 1000.]\n",
      " [1000. 1000. 1000. 1000. 1000.]\n",
      " [1000. 1000. 1000. 1000. 1000.]]\n",
      "positions = [[[ 23.70772688 -32.56532781 -17.5531989 ]\n",
      "  [ -2.79102546  41.1418211  -37.47892735]\n",
      "  [ 43.05565384 -26.49435672  30.58426363]\n",
      "  [-20.58970393  42.78752365   2.39556781]\n",
      "  [  2.37001221  28.70675429 -48.15685904]]\n",
      "\n",
      " [[ 19.99804983  48.93656135 -14.26324433]\n",
      "  [-31.93947942  13.83775032 -24.29599901]\n",
      "  [ 29.58852541  -5.28747035  19.92551721]\n",
      "  [ -1.39302951  20.0876287   32.482488  ]\n",
      "  [-49.48565243  49.25921487   8.40248245]]\n",
      "\n",
      " [[-21.9528585   11.17734508  24.19171333]\n",
      "  [ 37.36394936  22.44684807  12.12827158]\n",
      "  [-21.31786528  49.75378135  20.16742979]\n",
      "  [-36.56024478  16.07627889  -9.03140524]\n",
      "  [-14.28612073 -13.69610298 -33.17266318]]\n",
      "\n",
      " [[ 19.90248336 -27.94087285  26.13298422]\n",
      "  [ 18.84707561 -37.78252923  30.81371814]\n",
      "  [ 45.71557433 -39.70314876  42.08672738]\n",
      "  [ 49.9302324   -5.07582596 -24.87829057]\n",
      "  [ -2.02063459  16.90577659 -18.80540158]]\n",
      "\n",
      " [[-42.02756179  32.48518724   8.74864684]\n",
      "  [  9.57033553 -44.15363233  10.55382487]\n",
      "  [ -2.19348789  20.30370993  39.29692787]\n",
      "  [ 33.84969185 -31.56663128 -11.96760241]\n",
      "  [-48.70390609  13.82980872 -26.85366103]]]\n",
      "types = [['X', 'B', 'S', 'W', 'F'], ['O', 'Z', 'J', 'T', 'N'], ['V', 'Q', 'V', 'K', 'Q'], ['M', 'K', 'U', 'T', 'K'], ['L', 'K', 'Y', 'F', 'T']]\n",
      "radii = [[6.90945653 5.99487881 6.82809311 5.13955855 8.43838744]\n",
      " [9.05133233 7.08901975 5.47664663 5.76359143 7.27424672]\n",
      " [9.67789832 8.60811342 7.13462419 8.78250898 7.3840476 ]\n",
      " [7.74438288 9.47412062 6.85478836 5.34552745 7.16238251]\n",
      " [5.5448614  9.90576061 7.59037317 7.81463754 8.6250507 ]]\n"
     ]
    }
   ],
   "source": [
    "print(\"box size = {}\".format(example_data[\"box_size\"]))\n",
    "print(\"times = {}\".format(example_data[\"times\"]))\n",
    "print(\"number of agents = {}\".format(example_data[\"n_agents\"]))\n",
    "print(\"viz types = {}\".format(example_data[\"viz_types\"]))\n",
    "print(\"positions = {}\".format(example_data[\"positions\"]))\n",
    "print(\"types = {}\".format(example_data[\"types\"]))\n",
    "print(\"radii = {}\".format(example_data[\"radii\"]))\n",
    "if agents_are_fibers:\n",
    "    print(\"subpoints = {}\".format(example_data[\"subpoints\"]))"
   ]
  },
  {
   "cell_type": "markdown",
   "metadata": {},
   "source": [
    "## Convert and save as .simularium JSON file"
   ]
  },
  {
   "cell_type": "markdown",
   "metadata": {},
   "source": [
    "Once your data is shaped like in the `example_data` object, you can use the converter to generate the file at the given path:"
   ]
  },
  {
   "cell_type": "code",
   "execution_count": 6,
   "metadata": {},
   "outputs": [],
   "source": [
    "Converter(example_data).write_JSON(\"/Users/blairl/Desktop/example\")"
   ]
  },
  {
   "cell_type": "markdown",
   "metadata": {},
   "source": [
    "## Visualize in the Simularium viewer"
   ]
  },
  {
   "cell_type": "markdown",
   "metadata": {},
   "source": [
    "In your browser, either Firefox or Chrome, navigate to https://staging.agentviz.allencell.org/ and drag your file onto the center viewer window. \n",
    "\n",
    "*For now you'll first have to choose an example trajectory and close the load window. Once the example trajectory loads, you can drop your own file in to replace it. We'll fix this soon :)*"
   ]
  },
  {
   "cell_type": "code",
   "execution_count": null,
   "metadata": {},
   "outputs": [],
   "source": []
  }
 ],
 "metadata": {
  "kernelspec": {
   "display_name": "Python 3",
   "language": "python",
   "name": "python3"
  },
  "language_info": {
   "codemirror_mode": {
    "name": "ipython",
    "version": 3
   },
   "file_extension": ".py",
   "mimetype": "text/x-python",
   "name": "python",
   "nbconvert_exporter": "python",
   "pygments_lexer": "ipython3",
   "version": "3.8.5"
  }
 },
 "nbformat": 4,
 "nbformat_minor": 4
}
