{
 "cells": [
  {
   "cell_type": "markdown",
   "metadata": {},
   "source": [
    "# Simularium Conversion Tutorial"
   ]
  },
  {
   "cell_type": "markdown",
   "metadata": {},
   "source": [
    "This notebook provides example python code for converting your own simulation trajectories into the format consumed by the Simularium Viewer (https://staging.agentviz.allencell.org/)"
   ]
  },
  {
   "cell_type": "code",
   "execution_count": 1,
   "metadata": {},
   "outputs": [],
   "source": [
    "import numpy as np\n",
    "from simulariumio import Converter"
   ]
  },
  {
   "cell_type": "markdown",
   "metadata": {},
   "source": [
    "## Generate example data"
   ]
  },
  {
   "cell_type": "code",
   "execution_count": 2,
   "metadata": {},
   "outputs": [],
   "source": [
    "from string import ascii_uppercase\n",
    "from random import choice\n",
    "\n",
    "# parameters\n",
    "total_steps = 5\n",
    "timestep = 0.5\n",
    "box_size = 100\n",
    "n_agents = 5\n",
    "min_radius = 5\n",
    "max_radius = 10\n",
    "\n",
    "example_data = {\n",
    "    \"box_size\" : np.array([box_size, box_size, box_size]),\n",
    "    \"times\" : timestep * np.array(list(range(total_steps))),\n",
    "    \"n_agents\" : np.array(total_steps * [n_agents]),\n",
    "    \"viz_types\" : np.array(total_steps * [n_agents * [1000.0]]),\n",
    "    \"positions\" : np.random.uniform(size=(total_steps, n_agents, 3)) * box_size - box_size * 0.5,\n",
    "    \"types\" : [],\n",
    "    \"radii\" : (max_radius - min_radius) * np.random.uniform(size=(total_steps,n_agents)) + min_radius\n",
    "}\n",
    "for t in range(total_steps):\n",
    "    example_data[\"types\"].append([choice(ascii_uppercase) for i in range(n_agents)])\n"
   ]
  },
  {
   "cell_type": "code",
   "execution_count": 3,
   "metadata": {},
   "outputs": [
    {
     "name": "stdout",
     "output_type": "stream",
     "text": [
      "box size = [100 100 100]\n",
      "times = [0.  0.5 1.  1.5 2. ]\n",
      "number of agents = [5 5 5 5 5]\n",
      "viz types = [[1000. 1000. 1000. 1000. 1000.]\n",
      " [1000. 1000. 1000. 1000. 1000.]\n",
      " [1000. 1000. 1000. 1000. 1000.]\n",
      " [1000. 1000. 1000. 1000. 1000.]\n",
      " [1000. 1000. 1000. 1000. 1000.]]\n",
      "positions = [[[ 21.58668002 -13.70903387 -40.01734271]\n",
      "  [  8.44645366  22.48904971 -43.573566  ]\n",
      "  [ -4.75601564 -35.45672754 -43.80806989]\n",
      "  [ 39.22006209 -24.87459765 -15.93487464]\n",
      "  [ 18.93234941  -6.01700408 -37.1400693 ]]\n",
      "\n",
      " [[ 36.83242954 -47.4406402   -0.31906396]\n",
      "  [ 39.41594664 -35.99276964 -16.03155596]\n",
      "  [ 44.13765847  -6.55618312 -21.83537292]\n",
      "  [ 40.06009101  46.64898841  32.51670044]\n",
      "  [ 18.35847771   2.27332361   1.62294118]]\n",
      "\n",
      " [[ 31.86514644 -19.53448941 -26.7556161 ]\n",
      "  [ -1.85528393  49.98773058   9.15825141]\n",
      "  [-35.82818656 -39.52469042  -4.83443444]\n",
      "  [-32.73436234   8.57162939  25.59408861]\n",
      "  [-47.03069629  14.20233162  47.93431854]]\n",
      "\n",
      " [[ 31.77658847   7.9515801   31.35214979]\n",
      "  [-29.53048539  17.65506799  -7.91496456]\n",
      "  [-44.37917394  48.7916995   21.26008523]\n",
      "  [-26.82617623  45.00868133 -43.66661931]\n",
      "  [ 25.16215611 -12.5170058   41.66449303]]\n",
      "\n",
      " [[ 40.08564372 -29.1844302  -22.18421497]\n",
      "  [-16.72563701   2.66557645  16.72441223]\n",
      "  [ 35.54419226 -25.86933642  -5.67615262]\n",
      "  [ -6.87158183 -13.16889465   0.2656056 ]\n",
      "  [ 16.15791352   6.81630128  20.99602234]]]\n",
      "types = [['H', 'I', 'M', 'Z', 'L'], ['G', 'F', 'X', 'U', 'V'], ['J', 'K', 'E', 'H', 'I'], ['A', 'G', 'L', 'B', 'Y'], ['N', 'V', 'N', 'G', 'Y']]\n",
      "radii = [[8.0230862  5.87182081 6.06356493 8.88198321 5.09394805]\n",
      " [7.76501121 7.20927547 5.15720607 8.43645351 8.62193401]\n",
      " [6.67424146 7.21868208 9.85259571 6.73430259 5.26654228]\n",
      " [5.89303625 8.3717094  5.94374772 9.11063474 8.67398425]\n",
      " [6.38565484 6.39518956 5.66506565 5.72490657 6.15670073]]\n"
     ]
    }
   ],
   "source": [
    "print(\"box size = {}\".format(example_data[\"box_size\"]))\n",
    "print(\"times = {}\".format(example_data[\"times\"]))\n",
    "print(\"number of agents = {}\".format(example_data[\"n_agents\"]))\n",
    "print(\"viz types = {}\".format(example_data[\"viz_types\"]))\n",
    "print(\"positions = {}\".format(example_data[\"positions\"]))\n",
    "print(\"types = {}\".format(example_data[\"types\"]))\n",
    "print(\"radii = {}\".format(example_data[\"radii\"]))"
   ]
  },
  {
   "cell_type": "code",
   "execution_count": 4,
   "metadata": {},
   "outputs": [],
   "source": [
    "output_path = \"/Users/blairl/Documents/example\"\n",
    "\n",
    "Converter(example_data).write_JSON(output_path)"
   ]
  },
  {
   "cell_type": "code",
   "execution_count": null,
   "metadata": {},
   "outputs": [],
   "source": []
  }
 ],
 "metadata": {
  "kernelspec": {
   "display_name": "Python 3",
   "language": "python",
   "name": "python3"
  },
  "language_info": {
   "codemirror_mode": {
    "name": "ipython",
    "version": 3
   },
   "file_extension": ".py",
   "mimetype": "text/x-python",
   "name": "python",
   "nbconvert_exporter": "python",
   "pygments_lexer": "ipython3",
   "version": "3.8.5"
  }
 },
 "nbformat": 4,
 "nbformat_minor": 4
}
