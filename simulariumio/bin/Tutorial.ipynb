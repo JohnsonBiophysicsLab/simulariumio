{
 "cells": [
  {
   "cell_type": "markdown",
   "metadata": {},
   "source": [
    "# Simularium Conversion Tutorial"
   ]
  },
  {
   "cell_type": "markdown",
   "metadata": {},
   "source": [
    "This notebook provides example python code for converting your own simulation trajectories into the format consumed by the Simularium Viewer (https://staging.agentviz.allencell.org/)"
   ]
  },
  {
   "cell_type": "code",
   "execution_count": 1,
   "metadata": {},
   "outputs": [],
   "source": [
    "import numpy as np\n",
    "from simulariumio import Converter"
   ]
  },
  {
   "cell_type": "markdown",
   "metadata": {},
   "source": [
    "## Generate example data"
   ]
  },
  {
   "cell_type": "code",
   "execution_count": 2,
   "metadata": {},
   "outputs": [],
   "source": [
    "from string import ascii_uppercase\n",
    "from random import choice\n",
    "\n",
    "# parameters\n",
    "total_steps = 5\n",
    "timestep = 0.5\n",
    "box_size = 100\n",
    "n_agents = 5\n",
    "min_radius = 5\n",
    "max_radius = 10\n",
    "\n",
    "example_data = {\n",
    "    \"box_size\" : np.array([box_size, box_size, box_size]),\n",
    "    \"times\" : timestep * np.array(list(range(total_steps))),\n",
    "    \"n_agents\" : np.array(total_steps * [n_agents]),\n",
    "    \"viz_types\" : np.array(total_steps * [n_agents * [1000.0]]),\n",
    "    \"positions\" : np.random.uniform(size=(total_steps, n_agents, 3)) * box_size - box_size * 0.5,\n",
    "    \"types\" : [],\n",
    "    \"radii\" : (max_radius - min_radius) * np.random.uniform(size=(total_steps,n_agents)) + min_radius\n",
    "}\n",
    "for t in range(total_steps):\n",
    "    example_data[\"types\"].append([choice(ascii_uppercase) for i in range(n_agents)])\n"
   ]
  },
  {
   "cell_type": "code",
   "execution_count": 3,
   "metadata": {},
   "outputs": [
    {
     "name": "stdout",
     "output_type": "stream",
     "text": [
      "box size = [100 100 100]\n",
      "times = [0.  0.5 1.  1.5 2. ]\n",
      "number of agents = [5 5 5 5 5]\n",
      "viz types = [[1000. 1000. 1000. 1000. 1000.]\n",
      " [1000. 1000. 1000. 1000. 1000.]\n",
      " [1000. 1000. 1000. 1000. 1000.]\n",
      " [1000. 1000. 1000. 1000. 1000.]\n",
      " [1000. 1000. 1000. 1000. 1000.]]\n",
      "positions = [[[ 20.88145807  43.37566522 -25.41375132]\n",
      "  [ 37.28198722  17.88395263  23.69162917]\n",
      "  [-11.81778257  -2.08572656  37.24376816]\n",
      "  [-12.33927997  23.85685562   2.6290496 ]\n",
      "  [ -5.1274867   29.79609104   8.15321078]]\n",
      "\n",
      " [[-13.55754633  29.24926512  10.06625781]\n",
      "  [-12.79199318  26.03032342 -44.47159701]\n",
      "  [ 41.91212083  18.23721182  14.64139992]\n",
      "  [ 32.71056715 -27.12707384 -27.51635038]\n",
      "  [ 44.74853446  40.55004084  41.40736453]]\n",
      "\n",
      " [[-34.66536562 -16.25371831 -28.6696427 ]\n",
      "  [-20.42338594 -46.50046624  -8.28226239]\n",
      "  [ 49.94866986  -7.343584    19.73723106]\n",
      "  [-31.1784164  -38.35268048  18.58564116]\n",
      "  [-41.3685786   -9.36462872 -17.8879507 ]]\n",
      "\n",
      " [[ 44.35913738 -49.45454853 -21.41883737]\n",
      "  [-11.32136775 -43.58995664  -2.10536627]\n",
      "  [  6.36335257  47.30698057  41.92799451]\n",
      "  [-20.72546563   7.51824839  17.33137673]\n",
      "  [ 15.58918664  19.23393337  44.42439334]]\n",
      "\n",
      " [[ 11.5616937  -33.17399916 -41.9384374 ]\n",
      "  [ 15.85882065   4.41209159  14.40688566]\n",
      "  [-30.26575014 -42.23081655  15.71050631]\n",
      "  [-26.17724856 -13.43782942  -9.01520608]\n",
      "  [  4.7839943  -11.11908364 -33.67628352]]]\n",
      "types = [['F', 'Y', 'L', 'Y', 'F'], ['Y', 'F', 'P', 'L', 'J'], ['E', 'J', 'V', 'F', 'I'], ['X', 'I', 'B', 'H', 'G'], ['L', 'B', 'B', 'Y', 'E']]\n",
      "radii = [[6.68964703 5.34992555 9.65496119 9.61672478 6.74650105]\n",
      " [5.50877741 9.4891875  9.8844334  9.81682234 7.38548829]\n",
      " [6.07477971 5.30071928 7.68537622 8.01676077 8.16656215]\n",
      " [7.59540439 7.80721324 5.36485951 9.04887148 7.74816366]\n",
      " [7.29570091 7.48350773 7.02508183 8.63402086 7.84481412]]\n"
     ]
    }
   ],
   "source": [
    "print(\"box size = {}\".format(example_data[\"box_size\"]))\n",
    "print(\"times = {}\".format(example_data[\"times\"]))\n",
    "print(\"number of agents = {}\".format(example_data[\"n_agents\"]))\n",
    "print(\"viz types = {}\".format(example_data[\"viz_types\"]))\n",
    "print(\"positions = {}\".format(example_data[\"positions\"]))\n",
    "print(\"types = {}\".format(example_data[\"types\"]))\n",
    "print(\"radii = {}\".format(example_data[\"radii\"]))"
   ]
  },
  {
   "cell_type": "code",
   "execution_count": 4,
   "metadata": {},
   "outputs": [],
   "source": [
    "output_path = \"/Users/blairl/Documents/example\"\n",
    "\n",
    "converter = Converter(example_data)\n",
    "converter.write_JSON(output_path)"
   ]
  },
  {
   "cell_type": "code",
   "execution_count": null,
   "metadata": {},
   "outputs": [],
   "source": []
  }
 ],
 "metadata": {
  "kernelspec": {
   "display_name": "Python 3",
   "language": "python",
   "name": "python3"
  },
  "language_info": {
   "codemirror_mode": {
    "name": "ipython",
    "version": 3
   },
   "file_extension": ".py",
   "mimetype": "text/x-python",
   "name": "python",
   "nbconvert_exporter": "python",
   "pygments_lexer": "ipython3",
   "version": "3.8.5"
  }
 },
 "nbformat": 4,
 "nbformat_minor": 4
}
